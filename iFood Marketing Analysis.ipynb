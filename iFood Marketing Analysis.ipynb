{
 "cells": [
  {
   "cell_type": "markdown",
   "id": "068668d4",
   "metadata": {},
   "source": [
    "# **ABOUT DATASET**\n",
    "\n",
    "iFood is the lead food delivery app in Brazil, present in over a thousand cities. Keeping a high customer engagement is key for growing and consolidating the company’s position as the market leader. Data Analysts working within the data team are constantly challenged to provide insights and value to the company through open scope projects. This case intends to simulate that. In this case, you are presented a sample dataset, that mocks metainformation on the customer and on iFood campaign interactions with that customer. It is your challenge to understand the data, find business opportunities & insights and to propose any data driven action to optimize the campaigns results & generate value to the company. This case aims to evaluate your Data skills and knowledge for two possible roles:\n",
    "\n",
    "1. Data Analyst Business:\n",
    "\n",
    "    - Perform robust exploratory analysis, rich with business insights & data driven proposals to add value to the company and have strong communication skills to influence the decision making.\n",
    "    \n",
    "2. Data Advanced Analytics:\n",
    "\n",
    "    - Perform robust exploratory analysis, using advanced analytics tools and statistical methods to generate data products to optimize business results (predictive & clusterization models, for example)\n",
    "    \n",
    "Key Objectives are:\n",
    "\n",
    "1. Explore the data – don’t just plot means and counts. Provide insights, define cause and effect. Provide a better understanding of the characteristic features of respondents;\n",
    "\n",
    "2. Propose and describe a customer segmentation based on customers behaviors;\n",
    "\n",
    "3. Create a predictive model which allows the company to maximize the profit of the next marketing campaign.\n",
    "\n",
    "A look at the dataset indicates a total of 2240 customers with 29 features collected for the categorization of iFood's customers."
   ]
  },
  {
   "cell_type": "code",
   "execution_count": 1,
   "id": "e5689bac",
   "metadata": {},
   "outputs": [
    {
     "name": "stdout",
     "output_type": "stream",
     "text": [
      "customers:  2240\n",
      "features:  29 \n",
      "\n",
      "     ID   Education   Income  Recency  Response\n",
      "0  5524  Graduation  58138.0       58         1\n",
      "1  2174  Graduation  46344.0       38         0\n",
      "2  4141  Graduation  71613.0       26         0\n",
      "3  6182  Graduation  26646.0       26         0\n",
      "4  5324         PhD  58293.0       94         0\n"
     ]
    }
   ],
   "source": [
    "import pandas as pd\n",
    "import matplotlib.pyplot as plt\n",
    "import numpy as np\n",
    "\n",
    "date_cols = ['Year_Birth', 'Dt_Customer']\n",
    "ifood = pd.read_csv('marketing_campaign.csv',\n",
    "                    delimiter=';',\n",
    "                    parse_dates=date_cols)\n",
    "\n",
    "print('customers: ', ifood['ID'].nunique())\n",
    "\n",
    "print('features: ', ifood.shape[1], '\\n')\n",
    "\n",
    "displ_cols = ['ID', 'Education', 'Income', 'Recency', 'Response']\n",
    "print(ifood[displ_cols].head())"
   ]
  },
  {
   "cell_type": "markdown",
   "id": "2460c825",
   "metadata": {},
   "source": [
    "## Handling Missing Data\n",
    "\n",
    "Previously, it was confirmed that there are no duplicate entries. However, there are 24 missing entries for the yearly household `'Income'` feature."
   ]
  },
  {
   "cell_type": "code",
   "execution_count": 2,
   "id": "9f702883",
   "metadata": {
    "run_control": {
     "marked": false
    },
    "scrolled": true
   },
   "outputs": [
    {
     "name": "stdout",
     "output_type": "stream",
     "text": [
      "Income    24\n",
      "dtype: int64\n"
     ]
    }
   ],
   "source": [
    "mis_ftrs = ifood.isna().sum()>1\n",
    "print(ifood.isna().sum()[mis_ftrs])"
   ]
  },
  {
   "cell_type": "markdown",
   "id": "2f253c21",
   "metadata": {},
   "source": [
    "Being that median is less bias than the average, it will be used for filling in the missing values. The criteria being that the median income is based on the education level. Nonetheless, the decision to use median to fill missing values does not imply that it will be the statistics that will be used henceforth. "
   ]
  },
  {
   "cell_type": "code",
   "execution_count": 3,
   "id": "94cebce2",
   "metadata": {},
   "outputs": [
    {
     "name": "stdout",
     "output_type": "stream",
     "text": [
      "\n",
      "missing income entries:  0\n"
     ]
    }
   ],
   "source": [
    "ifood['Income'] = (ifood['Income']\n",
    "                   .fillna(ifood.groupby(['Education'])\n",
    "                           ['Income']\n",
    "                           .transform('median')))\n",
    "print()\n",
    "print('missing income entries: ', ifood['Income'].isna().sum())"
   ]
  },
  {
   "cell_type": "markdown",
   "id": "3490bf57",
   "metadata": {},
   "source": [
    "## Superfluous Features\n",
    "\n",
    "The `'Z_CostContact'` and `'Z_Revenue'` features have only one value for all the customers. Therefore, they are unnecessary for further analysis."
   ]
  },
  {
   "cell_type": "code",
   "execution_count": 4,
   "id": "63a203f1",
   "metadata": {
    "scrolled": true
   },
   "outputs": [
    {
     "name": "stdout",
     "output_type": "stream",
     "text": [
      "Z_CostContact    1\n",
      "Z_Revenue        1\n",
      "dtype: int64\n"
     ]
    }
   ],
   "source": [
    "redun_ftrs = ifood.nunique()[ifood.nunique() < 2]\n",
    "ifood = ifood.drop(list(redun_ftrs.keys()), axis=1)\n",
    "print(redun_ftrs)"
   ]
  },
  {
   "cell_type": "markdown",
   "id": "bcd87437",
   "metadata": {},
   "source": [
    "The `'Year_Birth'` feature is useful when calculating the ages of the customers. However, the feature becomes redundant once the calculation is done so it is removed from the data. Before, calculating the age of each customer, it is important that we look at the time line for the study. A look at the data shows that the data was collected between 2012-07-30 to 2014-06-29. This means that any calculation involving dates will be based on this time line."
   ]
  },
  {
   "cell_type": "code",
   "execution_count": 5,
   "id": "7cc98b23",
   "metadata": {
    "scrolled": true
   },
   "outputs": [
    {
     "data": {
      "text/plain": [
       "min   2012-07-30\n",
       "max   2014-06-29\n",
       "Name: Dt_Customer, dtype: datetime64[ns]"
      ]
     },
     "execution_count": 5,
     "metadata": {},
     "output_type": "execute_result"
    }
   ],
   "source": [
    "ifood['Dt_Customer'].agg(['min', 'max'])"
   ]
  },
  {
   "cell_type": "markdown",
   "id": "1163cd87",
   "metadata": {},
   "source": [
    "With this information, the `'Age'` feature is created while the `'Year_Birth'` feature is removed. As we can see that the average age of these customers is 45 years with the youngest customer being 18 years while the oldest is 121."
   ]
  },
  {
   "cell_type": "code",
   "execution_count": 6,
   "id": "c6c9bac2",
   "metadata": {},
   "outputs": [
    {
     "data": {
      "text/plain": [
       "mean     45.0\n",
       "min      18.0\n",
       "max     121.0\n",
       "Name: Age, dtype: float64"
      ]
     },
     "execution_count": 6,
     "metadata": {},
     "output_type": "execute_result"
    }
   ],
   "source": [
    "now = ifood['Dt_Customer'].max().year\n",
    "\n",
    "ifood['Age'] = now - ifood['Year_Birth'].dt.year \n",
    "ifood = ifood.drop('Year_Birth', axis=1)\n",
    "ifood['Age'].agg(['mean', 'min', 'max']).round(0)"
   ]
  },
  {
   "cell_type": "markdown",
   "id": "037003bb",
   "metadata": {},
   "source": [
    "A closer looks reveals that there are only three customers who are over 75 years. Despite the old age, my assumption is that these customers are being assisted by their loved ones when it comes to purchases iFood products."
   ]
  },
  {
   "cell_type": "code",
   "execution_count": 7,
   "id": "38bd08f7",
   "metadata": {},
   "outputs": [
    {
     "name": "stdout",
     "output_type": "stream",
     "text": [
      "         ID  Age\n",
      "192    7829  114\n",
      "239   11004  121\n",
      "339    1150  115\n",
      "1950   6663   74\n"
     ]
    }
   ],
   "source": [
    "print(ifood[['ID','Age']][ifood['Age']>73])"
   ]
  },
  {
   "cell_type": "markdown",
   "id": "78d00658",
   "metadata": {},
   "source": [
    "After these feature engineering, let's dive into exploratory data analysis. Note that more features will be created as need arise."
   ]
  },
  {
   "cell_type": "markdown",
   "id": "6a212c34",
   "metadata": {},
   "source": [
    "# **EXPLORATORY ANALYSIS**\n",
    "\n",
    "In this section, the dataset is explored using the categories provided for each categorical variable in the dataset. "
   ]
  },
  {
   "cell_type": "markdown",
   "id": "6b0a96d6",
   "metadata": {},
   "source": [
    "## Complains and Success Rates\n",
    "\n",
    "In the last two years, there have been 20 complains with only three clients accepting the offer in the last campaign. This translates to a 15% acceptance rate based on complains. Something ought to be done to address these complains."
   ]
  },
  {
   "cell_type": "code",
   "execution_count": null,
   "id": "a9692352",
   "metadata": {
    "run_control": {
     "marked": false
    }
   },
   "outputs": [],
   "source": [
    "complaints = (marketing[marketing['Complain'] == 1]\n",
    "              [['Complain', 'Response']])\n",
    "\n",
    "(complaints['Response'].sum() / len(complaints))*100"
   ]
  },
  {
   "cell_type": "markdown",
   "id": "1a7d5cec",
   "metadata": {},
   "source": [
    "## Education Level and Success Rate\n",
    "\n",
    "Customers with PhD had an exceptional success rate (21% against the overall 15%) while those with basic education had the poorest conversion rate (4% against the overall 15%)."
   ]
  },
  {
   "cell_type": "code",
   "execution_count": null,
   "id": "c7a5d220",
   "metadata": {
    "run_control": {
     "marked": false
    }
   },
   "outputs": [],
   "source": [
    "import matplotlib.pyplot as plt\n",
    "\n",
    "def conversion_rate(variable, df):\n",
    "    \"\"\"Function to calculate the conversion rate\"\"\"\n",
    "    conv_users = df.groupby(variable)['Response'].sum()\n",
    "    total_users = df[variable].value_counts()\n",
    "    conversion_rate = round((conv_users/total_users)*100,0)\n",
    "    return conversion_rate\n",
    "\n",
    "edu_conv_rate = conversion_rate('Education', \n",
    "                                df=marketing).sort_values()\n",
    "\n",
    "plt.bar(edu_conv_rate.index, \n",
    "        edu_conv_rate, \n",
    "        color='#2f6aa8', \n",
    "        alpha=0.5)\n",
    "\n",
    "\n",
    "plt.xlabel('Level of Education', size=12)\n",
    "plt.ylabel('Conversion Rate (%)', size=12)\n",
    "plt.title('Conversion Rate Based on Education Level\\n', size=13);"
   ]
  },
  {
   "cell_type": "markdown",
   "id": "21897cc7",
   "metadata": {},
   "source": [
    "One of the reason that could be the first suspect to cause these values of conversion rate is the number of customers in these categories. However, a closer look reveals that despite those with basic education consisting of only 54 participants, there conversion rate is still lower as compared to those with the graduation status, the majority (1127 participants). "
   ]
  },
  {
   "cell_type": "code",
   "execution_count": null,
   "id": "3071c016",
   "metadata": {
    "run_control": {
     "marked": false
    }
   },
   "outputs": [],
   "source": [
    "(marketing['Education'].value_counts(ascending=True)\n",
    "                       .plot(kind='barh', \n",
    "                             color='#2f6aa8', \n",
    "                             alpha=0.6))\n",
    "\n",
    "plt.ylabel('Level of Education', size=12)\n",
    "plt.xlabel('Number of Customers', size=12)\n",
    "plt.title('Number of Customers based on Level of Education\\n', \n",
    "          size=13);"
   ]
  },
  {
   "cell_type": "markdown",
   "id": "d7cf3173",
   "metadata": {},
   "source": [
    "This prompts at looking at the average household income based on these education groups. Before plotting a graph to show this distribution, a function is defined for the plot."
   ]
  },
  {
   "cell_type": "code",
   "execution_count": null,
   "id": "7dc1b70e",
   "metadata": {
    "run_control": {
     "marked": false
    }
   },
   "outputs": [],
   "source": [
    "def twin_plot(df, col1, col2, xlabel):\n",
    "    \"\"\"\n",
    "    Plots twin plots.\n",
    "    col1 & col2 are the columns to be plotted\n",
    "    xlabel is the label of x axis\n",
    "    \"\"\"\n",
    "    \n",
    "    fig, ax = plt.subplots(figsize=(7,6))\n",
    "    \n",
    "    ax2 = ax.twinx()\n",
    "\n",
    "    ax.bar(df.index, df[col1], \n",
    "           color='#2f6aa8', \n",
    "           alpha=0.5, \n",
    "           label=col1)\n",
    "    \n",
    "    ax2.plot(df.index, \n",
    "             df[col2], '--D',\n",
    "             color = '#be4e00', \n",
    "             alpha=0.8, \n",
    "             label=col2)\n",
    "\n",
    "    ax.legend(loc='upper center')\n",
    "    ax2.legend()\n",
    "    \n",
    "    ax.set_xlabel(xlabel, size=12)\n",
    "    \n",
    "    ax.set_ylabel(str(col1), \n",
    "                  color='#2f6aa8', \n",
    "                  size=12)\n",
    "\n",
    "    ax2.set_ylabel(str(col2), \n",
    "                   color='#be4e00', \n",
    "                   size=12)\n",
    "\n",
    "    ax.set_title('Conversion Rate Based on '+ str(col1),\n",
    "                 size=13, y=1.02);"
   ]
  },
  {
   "cell_type": "markdown",
   "id": "28509610",
   "metadata": {},
   "source": [
    "Upon examination, it is clear that customers with basic education have the lowest average household income of about 20000 dollars. This value is approximately half times lower than those who are enrolled for a second education cycle (about 47000 dollars)."
   ]
  },
  {
   "cell_type": "code",
   "execution_count": null,
   "id": "cdbeff36",
   "metadata": {
    "run_control": {
     "marked": false
    }
   },
   "outputs": [],
   "source": [
    "income_education = (marketing.groupby('Education')\n",
    "                    ['Income'].mean())\n",
    "\n",
    "education_income = (pd.concat([income_education, \n",
    "                               edu_conv_rate], \n",
    "                              axis=1)\n",
    "                    .sort_values(0)\n",
    "                    .rename(columns={0: '% Conversion Rate'}))\n",
    "\n",
    "twin_plot(education_income, \n",
    "          'Income', \n",
    "          '% Conversion Rate', \n",
    "          'Education Level')"
   ]
  },
  {
   "cell_type": "markdown",
   "id": "52d46c5b",
   "metadata": {},
   "source": [
    "## Marital Status and Success Rates\n",
    "\n",
    "Interesting to see that customers who are either married or together having the lowest conversion rate (11 and 10 respectively against the overall 15%). Customers with the absurd and YOLO status have an outstanding conversion rate (eacth at 50% against the overall 15%)."
   ]
  },
  {
   "cell_type": "code",
   "execution_count": null,
   "id": "7f191b9c",
   "metadata": {
    "run_control": {
     "marked": false
    }
   },
   "outputs": [],
   "source": [
    "marital_conv_rate = conversion_rate('Marital_Status', marketing)\n",
    "\n",
    "(marital_conv_rate\n",
    " .sort_values()\n",
    " .plot(kind='barh', \n",
    "       color='#8c9d4f', \n",
    "       alpha=0.6))\n",
    "\n",
    "plt.ylabel('Marital Status', size=12)\n",
    "plt.xlabel('Success Rate (%)', size=12)\n",
    "plt.title('Success Rate among Marital Status\\n', size=13);"
   ]
  },
  {
   "cell_type": "markdown",
   "id": "e5fa9b53",
   "metadata": {},
   "source": [
    "Upon checking, the YOLO and absurd marital status each have two participants which translates to one participant in each class successfully accepting the offer and the other one declining that's why the 50% conversion rate. The same applies to customers who identify as lone who are only three. This result can, therefore, be misleading! It is also evident that those who are married or together constitute the majority of the customers (864 and 579 customers respectively) meaning that the marketing department should look for ways to increase the conservation rate among these groups."
   ]
  },
  {
   "cell_type": "code",
   "execution_count": null,
   "id": "0f7c7c7e",
   "metadata": {
    "run_control": {
     "marked": false
    }
   },
   "outputs": [],
   "source": [
    "marital_count = marketing['Marital_Status'].value_counts()\n",
    "\n",
    "marital_conv_frq = (pd.concat([marital_count, marital_conv_rate], \n",
    "                              axis=1)\n",
    "                    .rename(columns={'Marital_Status': 'Frequencies', \n",
    "                                     0: '% Conversion Rate'})\n",
    "                    .sort_values('% Conversion Rate'))\n",
    "\n",
    "twin_plot(marital_conv_frq, \n",
    "          'Frequencies', \n",
    "          '% Conversion Rate', \n",
    "          'Marital Status')"
   ]
  },
  {
   "cell_type": "markdown",
   "id": "9f90ad19",
   "metadata": {},
   "source": [
    "Regarding the customers in the married or together group, the reason for their low success rate could be because of the number of dependants. These two groups have the highest number of dependants. This may imply that their resources are channeled to other needs."
   ]
  },
  {
   "cell_type": "markdown",
   "id": "d79368eb",
   "metadata": {},
   "source": [
    "Another column, `Dependants` is created which is the sum of `Kidhome` and `Teenhome`. These two columns are then removed from the table."
   ]
  },
  {
   "cell_type": "code",
   "execution_count": null,
   "id": "3313b375",
   "metadata": {
    "run_control": {
     "marked": false
    },
    "scrolled": true
   },
   "outputs": [],
   "source": [
    "import numpy as np\n",
    "\n",
    "dependants_cols = ['Kidhome', 'Teenhome']\n",
    "marketing['Dependants'] = marketing[dependants_cols].apply(np.sum, axis=1)\n",
    "marketing = marketing.drop(dependants_cols, axis=1)"
   ]
  },
  {
   "cell_type": "code",
   "execution_count": null,
   "id": "31623176",
   "metadata": {
    "run_control": {
     "marked": false
    }
   },
   "outputs": [],
   "source": [
    "dependant_count = (marketing\n",
    "                   .groupby('Marital_Status')\n",
    "                   ['Dependants']\n",
    "                   .sum())\n",
    "\n",
    "dep_conv = (pd.concat([marital_count, dependant_count, \n",
    "                       marital_conv_rate], axis=1)\n",
    "            .rename(columns={0: '% Conversion Rate',\n",
    "                             'Dependants': 'Frequencies'})\n",
    "            .sort_values('% Conversion Rate'))\n",
    "\n",
    "twin_plot(dep_conv, \n",
    "          'Frequencies', \n",
    "          '% Conversion Rate', \n",
    "          'Marital Status')"
   ]
  },
  {
   "cell_type": "markdown",
   "id": "2c0eb17e",
   "metadata": {},
   "source": [
    "## Purchases based on Marital Status\n",
    "\n",
    "Wine products leads in sales across the marital status group followed by meat products. The other products vary in sales across this groups. It is also evident that customers in the married, together, single, divorced, and widow groups are the top spenders while those in the absurd, alone and YOLO groups being the low spenders."
   ]
  },
  {
   "cell_type": "markdown",
   "id": "1d0d09da",
   "metadata": {},
   "source": [
    "Another column created is the `Number_Purchases` which is the sum of all purchases made through discount, or using catalog, or directly in the store, or through the website. This step will come handy when creating a model."
   ]
  },
  {
   "cell_type": "code",
   "execution_count": null,
   "id": "e4229e09",
   "metadata": {
    "run_control": {
     "marked": false
    }
   },
   "outputs": [],
   "source": [
    "numPurch_cols = list(marketing.filter(regex='Purchases').columns)\n",
    "marketing['Number_Purchases'] = (marketing[numPurch_cols]\n",
    "                                 .apply(np.sum, axis=1))"
   ]
  },
  {
   "cell_type": "markdown",
   "id": "3bbe4442",
   "metadata": {},
   "source": [
    "Another column created is `purchase_total` which sums up the amount spent to purchase different products from the app."
   ]
  },
  {
   "cell_type": "code",
   "execution_count": null,
   "id": "0abdb977",
   "metadata": {
    "run_control": {
     "marked": false
    }
   },
   "outputs": [],
   "source": [
    "purch_cols = list(marketing.filter(regex='Mnt').columns)\n",
    "marketing['Purchase_total'] = (marketing[purch_cols]\n",
    "                               .apply(np.sum,axis=1))"
   ]
  },
  {
   "cell_type": "code",
   "execution_count": null,
   "id": "fae9466b",
   "metadata": {
    "run_control": {
     "marked": false
    }
   },
   "outputs": [],
   "source": [
    "fig, ax = plt.subplots(figsize=(8,5))\n",
    "\n",
    "(marketing\n",
    " .groupby('Marital_Status')[purch_cols]\n",
    " .sum()\n",
    " .plot(kind='bar', ax=ax))\n",
    "\n",
    "plt.ylabel('Amount Spent')\n",
    "plt.title('Amount Spent on Different Products based on Marital Status\\n', \n",
    "          size=13);"
   ]
  },
  {
   "cell_type": "markdown",
   "id": "0f2d0a6d",
   "metadata": {},
   "source": [
    "## Age Group and Success Rate\n",
    "\n",
    "The ages are classified into five categories: `25-34`, `35-44`, `45-54`, `55-64`, and `65+` And from the results it is clear that majority of the clients are aged between 45 to 54 while the least represented age group is between 25 and 34."
   ]
  },
  {
   "cell_type": "code",
   "execution_count": null,
   "id": "856163cc",
   "metadata": {
    "run_control": {
     "marked": false
    }
   },
   "outputs": [],
   "source": [
    "bins= [25,35,45,55,65, np.inf]\n",
    "labels = ['25-34','35-44','45-54','55-64','65+']\n",
    "\n",
    "marketing['Age_group'] = pd.cut(marketing['Age'], \n",
    "                                bins=bins, \n",
    "                                labels=labels, \n",
    "                                right=False)\n",
    "\n",
    "marketing['Age_group'].value_counts()"
   ]
  },
  {
   "cell_type": "markdown",
   "id": "a0306274",
   "metadata": {},
   "source": [
    "Regarding success rate, segmenting the customers by age shows that there is no huge difference with the lowest success rate (12 per cent against the overall 15%) recorded for customers aged 55-64 while the highest (17 per cent against the overall 15%)."
   ]
  },
  {
   "cell_type": "code",
   "execution_count": null,
   "id": "46ab3b06",
   "metadata": {
    "run_control": {
     "marked": false
    }
   },
   "outputs": [],
   "source": [
    "(conversion_rate('Age_group', marketing)\n",
    " .sort_values()\n",
    " .plot(kind='barh', color='#678785'))\n",
    "plt.ylabel('Age Group')\n",
    "plt.xlabel('Conversion Rate');"
   ]
  },
  {
   "cell_type": "markdown",
   "id": "c0099519",
   "metadata": {},
   "source": [
    "## Subscription Duration and Success Rate\n",
    "\n",
    "Despite being the minority, customers with ten years subscriptions have the highest conversion rate (27% against  the overall 15%) while those with eight years have the lowest conversion rate (9%)"
   ]
  },
  {
   "cell_type": "code",
   "execution_count": null,
   "id": "39b560fe",
   "metadata": {
    "run_control": {
     "marked": false
    }
   },
   "outputs": [],
   "source": [
    "year_conv = conversion_rate('Years_Subscribed', marketing)\n",
    "year_count = marketing['Years_Subscribed'].value_counts()\n",
    "\n",
    "dur_sub = (pd.concat([year_conv, year_count], axis=1)\n",
    "           .rename(columns={0: '% Conversion Rate', \n",
    "                            'Years_Subscribed': 'Frequencies'})\n",
    "           .sort_values('% Conversion Rate', ascending=False))\n",
    "\n",
    "twin_plot(dur_sub, \n",
    "          'Frequencies', \n",
    "          '% Conversion Rate', \n",
    "          'Years Subscribed')"
   ]
  },
  {
   "cell_type": "markdown",
   "id": "54b98b00",
   "metadata": {},
   "source": [
    "# **CLUSTERING FOR SEGMENTATION**\n",
    "\n",
    "To avoid overlooking of customers' behavioral patterns, clustering will be used instead of personal intuitions during segmentation. For this case study, the criteria for segmentation is that regardless of marital status, and education level, the customers are separated based on their income level,  age, and purchase totals. Using these criteria, the results can be differential marketing strategy for customers that have, say, high income and low purchasing versus those with low income and high purchasing."
   ]
  },
  {
   "cell_type": "code",
   "execution_count": null,
   "id": "91340c04",
   "metadata": {
    "run_control": {
     "marked": false
    }
   },
   "outputs": [],
   "source": [
    "cols = ['Income', 'Age', 'Purchase_total', 'Response']\n",
    "marketing_clust = marketing[cols]"
   ]
  },
  {
   "cell_type": "markdown",
   "id": "993f2604",
   "metadata": {},
   "source": [
    "## Training and Validation Data\n",
    "\n",
    "First the data is separated into training and testing portions to test for the accuracy of the clustering method used."
   ]
  },
  {
   "cell_type": "code",
   "execution_count": null,
   "id": "a17c2582",
   "metadata": {
    "run_control": {
     "marked": false
    }
   },
   "outputs": [],
   "source": [
    "from sklearn.model_selection import train_test_split\n",
    "\n",
    "X_data = marketing_clust.drop('Response', axis=1)\n",
    "y_data = marketing_clust['Response']\n",
    "\n",
    "X_train, X_test, y_train, y_test =\\\n",
    "    train_test_split(X_data, y_data, \n",
    "                     test_size=0.3, \n",
    "                     random_state=123)\n",
    "\n",
    "X_train.shape, X_test.shape"
   ]
  },
  {
   "cell_type": "markdown",
   "id": "664aa62c",
   "metadata": {},
   "source": [
    "## Standardization \n",
    "\n",
    "Next we standardize the training data and upon verification the mean value of practically all the columns is 0 and the standard deviation is 1. This ensures that all the columns get equal weight when calculation the similarity or distance between customers."
   ]
  },
  {
   "cell_type": "code",
   "execution_count": null,
   "id": "00507689",
   "metadata": {
    "run_control": {
     "marked": false
    }
   },
   "outputs": [],
   "source": [
    "from sklearn.preprocessing import StandardScaler\n",
    "from warnings import filterwarnings\n",
    "filterwarnings('ignore')\n",
    "\n",
    "scaler = StandardScaler()\n",
    "\n",
    "clust_cols = ['Income', 'Age', 'Purchase_total']\n",
    "scaled_cols = ['Income_scaled', 'Age_scaled', 'Purchase_scaled']\n",
    "X_train[scaled_cols] = scaler.fit_transform(X_train[clust_cols])"
   ]
  },
  {
   "cell_type": "markdown",
   "id": "c86657fd",
   "metadata": {},
   "source": [
    "## Kmeans Clustering and Dimensionality Reduction\n",
    "\n",
    "To choose an appropriate number clusters, the silhouttes score is used to measure how well a clustering fit the data. In this case, the higher score (optimal number of clusters) is from two clusters."
   ]
  },
  {
   "cell_type": "code",
   "execution_count": null,
   "id": "bbdb58ad",
   "metadata": {
    "run_control": {
     "marked": false
    }
   },
   "outputs": [],
   "source": [
    "from sklearn.cluster import KMeans\n",
    "from sklearn.metrics import silhouette_score\n",
    "\n",
    "sil_scores = []\n",
    "\n",
    "for k in range(2, 10):\n",
    "    km_model = KMeans(n_clusters=k, random_state=123)\n",
    "    cluster_assignments = km_model.fit_predict(X_train[scaled_cols])\n",
    "    sil_scores.append(silhouette_score(X_train[scaled_cols], \n",
    "                                       cluster_assignments))\n",
    "\n",
    "plt.plot(range(2, 10), sil_scores, color='#306958')\n",
    "plt.ylabel('Avg. Silhouette score')\n",
    "plt.xlabel('Number of Clusters: K');"
   ]
  },
  {
   "cell_type": "markdown",
   "id": "b03fe198",
   "metadata": {},
   "source": [
    "## Evaluating KMeans Performance\n",
    "\n",
    "A kmean model is created setting the number of clusters to 2 and fit to the training data in order to predict the clusters. The average silhouette score for this number of clusters is 0.51."
   ]
  },
  {
   "cell_type": "code",
   "execution_count": null,
   "id": "8f8024f9",
   "metadata": {
    "run_control": {
     "marked": false
    },
    "scrolled": true
   },
   "outputs": [],
   "source": [
    "km_model = KMeans(n_clusters=2, random_state=123)\n",
    "X_train['Income_Clusters'] = (km_model\n",
    "                              .fit_predict(X_train[scaled_cols]))\n",
    "\n",
    "silhouette_score(X_train[clust_cols], X_train['Income_Clusters'])"
   ]
  },
  {
   "cell_type": "markdown",
   "id": "2d35e630",
   "metadata": {},
   "source": [
    "For the test data, the average silhouette score (0.53) is an improvement from that computed for the training data (0.51)."
   ]
  },
  {
   "cell_type": "code",
   "execution_count": null,
   "id": "d7258cb8",
   "metadata": {
    "run_control": {
     "marked": false
    }
   },
   "outputs": [],
   "source": [
    "X_test[scaled_cols] = scaler.fit_transform(X_test[clust_cols])\n",
    "X_test['Income_Clusters'] = (km_model\n",
    "                             .predict(X_test[scaled_cols]))\n",
    "\n",
    "silhouette_score(X_test[clust_cols], X_test['Income_Clusters'])"
   ]
  },
  {
   "cell_type": "markdown",
   "id": "fcf5e93b",
   "metadata": {},
   "source": [
    "To understand the cause for this increase, a visualization will be created on the training and test data. But first, the data is reduced to two dimensions using PCA while preserving the distance between the points."
   ]
  },
  {
   "cell_type": "code",
   "execution_count": null,
   "id": "5f3a7ab4",
   "metadata": {
    "run_control": {
     "marked": false
    }
   },
   "outputs": [],
   "source": [
    "from sklearn.decomposition import PCA\n",
    "\n",
    "def pca_output(data):\n",
    "    return PCA(n_components=2).fit_transform(data[scaled_cols])\n",
    "\n",
    "pca_train = pca_output(X_train)\n",
    "pca_test = pca_output(X_test)\n",
    "\n",
    "X_train['pc1'], X_train['pc2'] = pca_train[:,0], pca_train[:,1]\n",
    "X_test['pc1'], X_test['pc2'] = pca_test[:,0], pca_test[:,1]"
   ]
  },
  {
   "cell_type": "markdown",
   "id": "3476620c",
   "metadata": {},
   "source": [
    "Before going ahead, a function is defined to plot clusters."
   ]
  },
  {
   "cell_type": "code",
   "execution_count": null,
   "id": "09028805",
   "metadata": {
    "run_control": {
     "marked": false
    }
   },
   "outputs": [],
   "source": [
    "markers = ['.', 'x']\n",
    "colors = ['#ed7d00', '#61b4f6']\n",
    "alpha = [0.6, 0.6]\n",
    "\n",
    "def plot_clusters(data):\n",
    "    for clust in range(data['Income_Clusters'].nunique()):\n",
    "        \n",
    "        temp = data[data['Income_Clusters']==clust]\n",
    "        \n",
    "        plt.scatter(temp['pc1'], temp['pc2'], \n",
    "                    marker=markers[clust], \n",
    "                    label='cluster '+str(clust), \n",
    "                    color=colors[clust], \n",
    "                    alpha=alpha[clust])\n",
    "\n",
    "    plt.legend(loc='upper left')\n",
    "    plt.xlabel('PC1')\n",
    "    plt.ylabel('PC2');"
   ]
  },
  {
   "cell_type": "markdown",
   "id": "39dc261d",
   "metadata": {},
   "source": [
    "The x and y axes are Principal Components and therefore not easily interpretable being that they are derived from combinations of the original features. However, by visualizing the clusters, it is evident how good the clusters are based on how much they overlap. However, there is a data point that is far from its cluster."
   ]
  },
  {
   "cell_type": "code",
   "execution_count": null,
   "id": "46749f36",
   "metadata": {
    "run_control": {
     "marked": false
    }
   },
   "outputs": [],
   "source": [
    "import seaborn as sns\n",
    "\n",
    "plot_clusters(X_train)"
   ]
  },
  {
   "cell_type": "markdown",
   "id": "d560855d",
   "metadata": {},
   "source": [
    "The outlier is also evident in the average household income."
   ]
  },
  {
   "cell_type": "code",
   "execution_count": null,
   "id": "377565fa",
   "metadata": {
    "run_control": {
     "marked": false
    }
   },
   "outputs": [],
   "source": [
    "sns.boxplot(X_train['Income'])\n",
    "plt.title('Distribution of Income\\n', size=13);"
   ]
  },
  {
   "cell_type": "markdown",
   "id": "10c80cda",
   "metadata": {},
   "source": [
    "In the test data, the improvement of the average silhouette can be attributed to the tight clusters."
   ]
  },
  {
   "cell_type": "code",
   "execution_count": null,
   "id": "ff15f24f",
   "metadata": {
    "run_control": {
     "marked": false
    }
   },
   "outputs": [],
   "source": [
    "plot_clusters(X_test)"
   ]
  },
  {
   "cell_type": "markdown",
   "id": "4853e2f3",
   "metadata": {},
   "source": [
    "To understand the clusters, the average values of the original features used for clustering can be computed against the two clusters visually. From the results it is clear that the income and purchase totals varies significantly between the clusters and perhaps for age."
   ]
  },
  {
   "cell_type": "code",
   "execution_count": null,
   "id": "4e573d44",
   "metadata": {
    "run_control": {
     "marked": false
    }
   },
   "outputs": [],
   "source": [
    "X_test.groupby('Income_Clusters')[clust_cols].mean()"
   ]
  },
  {
   "cell_type": "markdown",
   "id": "b307420e",
   "metadata": {},
   "source": [
    "## Interpreting Clusters\n",
    "\n",
    "As an interpretation, cluster 0 can be said to be comprised of high income customers with high purchasing habits while cluster 1 consist of customers who have low income earner and thus lower spenders. The age difference is not that large but it is evident that those in cluster 0 are somewhat older than those in cluster 1. Note that for this visualization, the standardized values are used instead of the original feature values due to scaling."
   ]
  },
  {
   "cell_type": "code",
   "execution_count": null,
   "id": "20eee40e",
   "metadata": {
    "run_control": {
     "marked": false
    }
   },
   "outputs": [],
   "source": [
    "(X_test\n",
    " .groupby('Income_Clusters')[scaled_cols]\n",
    " .mean()\n",
    " .plot\n",
    " .bar(color=['#442e51', '#396d58', '#447ca4'], \n",
    "      alpha=0.8))\n",
    "\n",
    "plt.axhline(0, \n",
    "            color='#aba396', \n",
    "            linestyle='--', \n",
    "            alpha=0.5)\n",
    "plt.ylabel('Scaled Values')\n",
    "plt.xlabel('Cluster')\n",
    "plt.title('Customer Segmentation based on Income, Age, Purchase\\n', \n",
    "          size=13);"
   ]
  },
  {
   "cell_type": "markdown",
   "id": "54056226",
   "metadata": {},
   "source": [
    "With this information, it is evident that customers classified as low income earners and spenders have low conversion rate (10 percent against the overall 15 percent) while those categorized as high income earners and spenders have a high conversion rate (23 percent against the overall 15 percent)."
   ]
  },
  {
   "cell_type": "code",
   "execution_count": null,
   "id": "632ffa0d",
   "metadata": {
    "run_control": {
     "marked": false
    }
   },
   "outputs": [],
   "source": [
    "income_cluster = pd.concat([X_test['Income_Clusters'], \n",
    "                            y_test], \n",
    "                           axis=1)\n",
    "\n",
    "(conversion_rate('Income_Clusters', income_cluster)\n",
    " .plot.barh())\n",
    "\n",
    "plt.yticks(ticks=[0, 1], \n",
    "           labels=['Low-income & low spenders', \n",
    "                   'High-income & high spenders'])\n",
    "plt.xlabel('Conversion Rate')\n",
    "plt.ylabel('Cluster')\n",
    "plt.title('Conversion Rate based on Income, Purchase & Age\\n', \n",
    "          size=13);"
   ]
  },
  {
   "cell_type": "markdown",
   "id": "9d5986a2",
   "metadata": {},
   "source": [
    "# **CREATING A PREDICTIVE MODEL**\n",
    "\n",
    "The aim of this section is to create a predictive model which will allow the company to maximize the profit of the next marketing campaign."
   ]
  },
  {
   "cell_type": "markdown",
   "id": "41890e4d",
   "metadata": {},
   "source": [
    "## Selecting Necessary Variables\n",
    "\n",
    "First, the selection of variables to proceed with is important.\n",
    "\n",
    "1. All the variables that were created for the purpose of customer segmentation analysis will be dropped.\n",
    " \n",
    "2. Variables like `Z_CostContact` and `Z_revenue` have constant values across each entry thus they are also removed. "
   ]
  },
  {
   "cell_type": "code",
   "execution_count": null,
   "id": "4a08a931",
   "metadata": {
    "run_control": {
     "marked": false
    }
   },
   "outputs": [],
   "source": [
    "col_remove = ['ID', 'Z_CostContact', 'Z_Revenue', 'Age_group', \n",
    "              'Number_Purchases', 'Purchase_total', 'Dependants']\n",
    "marketing = marketing.drop(col_remove, axis=1)"
   ]
  },
  {
   "cell_type": "markdown",
   "id": "dbd28f8e",
   "metadata": {},
   "source": [
    "## One Hot Encoding \n",
    "\n",
    "The categorical columns are also converted to numerical data types to allow for the use of the algorithms that will be used when creating a predictive model."
   ]
  },
  {
   "cell_type": "code",
   "execution_count": null,
   "id": "d747cf6e",
   "metadata": {
    "run_control": {
     "marked": false
    }
   },
   "outputs": [],
   "source": [
    "categ_cols = ['Education', 'Marital_Status']\n",
    "marketing = pd.get_dummies(marketing)"
   ]
  },
  {
   "cell_type": "markdown",
   "id": "49c4dc00",
   "metadata": {},
   "source": [
    "Next, the data is split into training and validation sets"
   ]
  },
  {
   "cell_type": "code",
   "execution_count": null,
   "id": "b92795d8",
   "metadata": {
    "run_control": {
     "marked": false
    }
   },
   "outputs": [],
   "source": [
    "X_data = marketing.drop('Response', axis=1)\n",
    "y_data = marketing['Response']\n",
    "\n",
    "X_train, X_val, y_train, y_val =\\\n",
    "    train_test_split(X_data, y_data, random_state=123, test_size=0.30)"
   ]
  },
  {
   "cell_type": "markdown",
   "id": "4e736876",
   "metadata": {},
   "source": [
    "Before proceeding, a function is created that contains a pipeline to scale the data and fit a classifier. The function then outputs the accuracy scores."
   ]
  },
  {
   "cell_type": "code",
   "execution_count": null,
   "id": "490f5599",
   "metadata": {
    "run_control": {
     "marked": false
    }
   },
   "outputs": [],
   "source": [
    "from sklearn.pipeline import Pipeline\n",
    "from sklearn.metrics import (roc_auc_score, \n",
    "                             confusion_matrix,\n",
    "                             classification_report)\n",
    "    \n",
    "def pipe_fit_score(classifier):\n",
    "    venue_pipe = Pipeline([('scaler', StandardScaler()), \n",
    "                           ('clf', classifier)])\n",
    "    \n",
    "    y_pred = venue_pipe.fit(X_train, y_train).predict(X_val)\n",
    "    \n",
    "    print(pd.DataFrame(confusion_matrix(y_val, y_pred), \n",
    "                        columns=['Positive', 'Negative'], \n",
    "                        index=['Positive', 'Negative']))\n",
    "    print()\n",
    "    print(classification_report(y_val, y_pred))\n",
    "    print()\n",
    "    return roc_auc_score(y_val, y_pred)"
   ]
  },
  {
   "cell_type": "markdown",
   "id": "d35251da",
   "metadata": {},
   "source": [
    "### Logistic Regression"
   ]
  },
  {
   "cell_type": "code",
   "execution_count": null,
   "id": "24955562",
   "metadata": {
    "run_control": {
     "marked": false
    }
   },
   "outputs": [],
   "source": [
    "from sklearn.linear_model import LogisticRegression\n",
    "pipe_fit_score(LogisticRegression())"
   ]
  },
  {
   "cell_type": "markdown",
   "id": "53fd48f3",
   "metadata": {},
   "source": [
    "### Random Forest Classifier"
   ]
  },
  {
   "cell_type": "code",
   "execution_count": null,
   "id": "ceef66a1",
   "metadata": {
    "run_control": {
     "marked": false
    }
   },
   "outputs": [],
   "source": [
    "from sklearn.ensemble import RandomForestClassifier\n",
    "rfc = RandomForestClassifier(random_state=123)\n",
    "pipe_fit_score(rfc)"
   ]
  },
  {
   "cell_type": "markdown",
   "id": "80298f33",
   "metadata": {},
   "source": [
    "### K-Neighbor Classifier"
   ]
  },
  {
   "cell_type": "code",
   "execution_count": null,
   "id": "507e6ee0",
   "metadata": {
    "run_control": {
     "marked": false
    }
   },
   "outputs": [],
   "source": [
    "from sklearn.neighbors import KNeighborsClassifier\n",
    "pipe_fit_score(KNeighborsClassifier())"
   ]
  },
  {
   "cell_type": "markdown",
   "id": "558a4a4e",
   "metadata": {},
   "source": [
    "### Support Vector Machine"
   ]
  },
  {
   "cell_type": "code",
   "execution_count": null,
   "id": "c8056fce",
   "metadata": {
    "run_control": {
     "marked": false
    }
   },
   "outputs": [],
   "source": [
    "from sklearn.svm import SVC\n",
    "pipe_fit_score(SVC())"
   ]
  },
  {
   "cell_type": "markdown",
   "id": "b246c107",
   "metadata": {},
   "source": [
    "## Classification\n",
    "\n",
    "When default parameters are used, logistic regression gives the best predictive scores in terms of accuracy (90 percent) and also the area under curve (0.72). More on classification will be tackled later on."
   ]
  },
  {
   "cell_type": "markdown",
   "id": "6f1478ba",
   "metadata": {},
   "source": [
    "## Hyperparameter Tuning\n",
    "\n",
    "In this section, the model parameters are tuned to determine the best model parameters that can be used for prediction"
   ]
  },
  {
   "cell_type": "code",
   "execution_count": null,
   "id": "a9393d92",
   "metadata": {
    "run_control": {
     "marked": false
    }
   },
   "outputs": [],
   "source": [
    "from sklearn.model_selection import GridSearchCV\n",
    "import numpy as np\n",
    "\n",
    "param_rfc = { \n",
    "    'n_estimators': [50, 100, 200],\n",
    "    'max_features': ['auto'],\n",
    "    'max_depth' : [None,3,5,8],\n",
    "    'criterion' :['gini'],\n",
    "    'min_samples_split':[2,3,4]}\n",
    "\n",
    "rfc_cv = GridSearchCV(RandomForestClassifier(random_state=5),\n",
    "                            param_grid=param_rfc,\n",
    "                            cv=5, verbose=1)\n",
    "\n",
    "rfc_cv.fit(X_train, y_train)\n",
    "rfc_tune_acc = pipe_fit_score(rfc_cv.best_estimator_)\n",
    "print('Accuracy: ', rfc_tune_acc)"
   ]
  }
 ],
 "metadata": {
  "gist": {
   "data": {
    "description": "Desktop/DS Projects/Marketing/iFood-Marketing-Analysis/iFood Marketing Analysis.ipynb",
    "public": true
   },
   "id": ""
  },
  "hide_input": false,
  "kernelspec": {
   "display_name": "Python 3 (ipykernel)",
   "language": "python",
   "name": "python3"
  },
  "language_info": {
   "codemirror_mode": {
    "name": "ipython",
    "version": 3
   },
   "file_extension": ".py",
   "mimetype": "text/x-python",
   "name": "python",
   "nbconvert_exporter": "python",
   "pygments_lexer": "ipython3",
   "version": "3.9.12"
  },
  "toc": {
   "base_numbering": 1,
   "nav_menu": {},
   "number_sections": true,
   "sideBar": true,
   "skip_h1_title": false,
   "title_cell": "Table of Contents",
   "title_sidebar": "Contents",
   "toc_cell": false,
   "toc_position": {
    "height": "calc(100% - 180px)",
    "left": "10px",
    "top": "150px",
    "width": "256px"
   },
   "toc_section_display": true,
   "toc_window_display": false
  },
  "varInspector": {
   "cols": {
    "lenName": 16,
    "lenType": 16,
    "lenVar": 40
   },
   "kernels_config": {
    "python": {
     "delete_cmd_postfix": "",
     "delete_cmd_prefix": "del ",
     "library": "var_list.py",
     "varRefreshCmd": "print(var_dic_list())"
    },
    "r": {
     "delete_cmd_postfix": ") ",
     "delete_cmd_prefix": "rm(",
     "library": "var_list.r",
     "varRefreshCmd": "cat(var_dic_list()) "
    }
   },
   "types_to_exclude": [
    "module",
    "function",
    "builtin_function_or_method",
    "instance",
    "_Feature"
   ],
   "window_display": false
  }
 },
 "nbformat": 4,
 "nbformat_minor": 5
}
