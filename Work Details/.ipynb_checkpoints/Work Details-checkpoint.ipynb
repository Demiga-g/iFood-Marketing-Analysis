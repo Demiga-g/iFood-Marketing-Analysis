{
 "cells": [
  {
   "cell_type": "code",
   "execution_count": 1,
   "id": "3eec4893",
   "metadata": {},
   "outputs": [],
   "source": [
    "from sklearn.metrics import (auc,\n",
    "                             roc_curve,\n",
    "                             roc_auc_score, \n",
    "                             RocCurveDisplay,\n",
    "                             silhouette_score,\n",
    "                             confusion_matrix, \n",
    "                             classification_report,\n",
    "                             PrecisionRecallDisplay,\n",
    "                             precision_recall_curve,)\n",
    "        \n",
    "from sklearn.model_selection import (GridSearchCV,\n",
    "                                     cross_val_score,\n",
    "                                     StratifiedKFold,\n",
    "                                     validation_curve,\n",
    "                                     train_test_split, )\n",
    "\n",
    "from sklearn.linear_model import LogisticRegression\n",
    "from sklearn.ensemble import RandomForestClassifier\n",
    "from sklearn.preprocessing import StandardScaler\n",
    "from sklearn.compose import ColumnTransformer\n",
    "from sklearn.impute import SimpleImputer\n",
    "from sklearn.pipeline import Pipeline\n",
    "from sklearn.cluster import KMeans\n",
    "import matplotlib.pyplot as plt\n",
    "import category_encoders as ce\n",
    "from sklearn.svm import SVC\n",
    "import seaborn as sns\n",
    "import pandas as pd\n",
    "import numpy as np\n",
    "import joblib"
   ]
  },
  {
   "cell_type": "code",
   "execution_count": 2,
   "id": "3d77aebb",
   "metadata": {},
   "outputs": [],
   "source": [
    "ifood_clf = joblib.load('ifood-pipeline.pkl')\n",
    "X_val = pd.read_pickle('X_validation.pkl')\n",
    "y_val = pd.read_pickle('y_validation.pkl')\n",
    "X_train = pd.read_pickle('X_train.pkl')\n",
    "y_train = pd.read_pickle('y_train.pkl')\n",
    "X = pd.read_pickle('X.pkl')\n",
    "y = pd.read_pickle('y.pkl')"
   ]
  },
  {
   "cell_type": "markdown",
   "id": "86b5ea0e",
   "metadata": {},
   "source": [
    "## Using Binary Encoding\n",
    "\n",
    "Before jumping into creating a pipeline, let's talk about transformation of non-numerical variables. The categorical variables need to be converted to numerical values to allow for the use of the predictive machine algorithms. And from the iFood data, these categorical variables are `'Education'` and `'Marital_Status'` which five and eight categories respectively. "
   ]
  },
  {
   "cell_type": "code",
   "execution_count": 3,
   "id": "58203b8d",
   "metadata": {
    "scrolled": true
   },
   "outputs": [
    {
     "data": {
      "text/plain": [
       "Education         5\n",
       "Marital_Status    8\n",
       "dtype: int64"
      ]
     },
     "execution_count": 3,
     "metadata": {},
     "output_type": "execute_result"
    }
   ],
   "source": [
    "X[['Education', 'Marital_Status']].nunique()"
   ]
  },
  {
   "cell_type": "markdown",
   "id": "67f07e31",
   "metadata": {},
   "source": [
    "Note that these variables are nominal data, that is, the categories do not have an inherent order. Therefore, we could use one-hot encoding, binary encoding, or any other encoding that could be dimmed fit. In this case study the **binary encoding method** will be used. This encoding is similar to onehot, but stores categories as binary bitstrings. That is to say, binary encoding is a combination of Hash encoding and one-hot encoding. In this encoding scheme, the categorical feature is first converted into numerical using an ordinal encoder. Then the numbers are transformed in the binary number. After that binary value is split into different columns. Binary encoding works really well when there are a high number of categories thus it is a memory-efficient encoding scheme as it uses fewer features than one-hot encoding. Further, it reduces the curse of dimensionality for data with high cardinality. Note that here a total of seven features are added as opposed to the eleven that could be added should we've used one-hot encoding."
   ]
  },
  {
   "cell_type": "code",
   "execution_count": 4,
   "id": "28e8beae",
   "metadata": {},
   "outputs": [
    {
     "data": {
      "text/html": [
       "<div>\n",
       "<style scoped>\n",
       "    .dataframe tbody tr th:only-of-type {\n",
       "        vertical-align: middle;\n",
       "    }\n",
       "\n",
       "    .dataframe tbody tr th {\n",
       "        vertical-align: top;\n",
       "    }\n",
       "\n",
       "    .dataframe thead th {\n",
       "        text-align: right;\n",
       "    }\n",
       "</style>\n",
       "<table border=\"1\" class=\"dataframe\">\n",
       "  <thead>\n",
       "    <tr style=\"text-align: right;\">\n",
       "      <th></th>\n",
       "      <th>Education_0</th>\n",
       "      <th>Education_1</th>\n",
       "      <th>Education_2</th>\n",
       "      <th>Marital_Status_0</th>\n",
       "      <th>Marital_Status_1</th>\n",
       "      <th>Marital_Status_2</th>\n",
       "      <th>Marital_Status_3</th>\n",
       "    </tr>\n",
       "  </thead>\n",
       "  <tbody>\n",
       "    <tr>\n",
       "      <th>0</th>\n",
       "      <td>0</td>\n",
       "      <td>0</td>\n",
       "      <td>1</td>\n",
       "      <td>0</td>\n",
       "      <td>0</td>\n",
       "      <td>0</td>\n",
       "      <td>1</td>\n",
       "    </tr>\n",
       "    <tr>\n",
       "      <th>1</th>\n",
       "      <td>0</td>\n",
       "      <td>0</td>\n",
       "      <td>1</td>\n",
       "      <td>0</td>\n",
       "      <td>0</td>\n",
       "      <td>0</td>\n",
       "      <td>1</td>\n",
       "    </tr>\n",
       "    <tr>\n",
       "      <th>2</th>\n",
       "      <td>0</td>\n",
       "      <td>0</td>\n",
       "      <td>1</td>\n",
       "      <td>0</td>\n",
       "      <td>0</td>\n",
       "      <td>1</td>\n",
       "      <td>0</td>\n",
       "    </tr>\n",
       "  </tbody>\n",
       "</table>\n",
       "</div>"
      ],
      "text/plain": [
       "   Education_0  Education_1  Education_2  Marital_Status_0  Marital_Status_1  \\\n",
       "0            0            0            1                 0                 0   \n",
       "1            0            0            1                 0                 0   \n",
       "2            0            0            1                 0                 0   \n",
       "\n",
       "   Marital_Status_2  Marital_Status_3  \n",
       "0                 0                 1  \n",
       "1                 0                 1  \n",
       "2                 1                 0  "
      ]
     },
     "execution_count": 4,
     "metadata": {},
     "output_type": "execute_result"
    }
   ],
   "source": [
    "# Encoding the categorical variables\n",
    "categ_ftrs = ['Education', 'Marital_Status']\n",
    "categ_encoder = ce.BinaryEncoder(cols=categ_ftrs, return_df=True)\n",
    "ifood_encoded = categ_encoder.fit_transform(X)\n",
    "\n",
    "# Selecting the categorical columns and displaying them\n",
    "encoded_categs = (list(ifood_encoded.filter(regex='Education')\n",
    "                       .columns) + \n",
    "                  list(ifood_encoded.filter(regex='Marital_Status')\n",
    "                       .columns))\n",
    "\n",
    "ifood_encoded[encoded_categs].head(3)"
   ]
  },
  {
   "cell_type": "markdown",
   "id": "230f351e",
   "metadata": {},
   "source": [
    "## Explaining the Scores\n",
    "\n",
    "**Precision:** Precision is the number of true positives divided by the sum of all positive predictions. It is also called the **positive predictive value**. High precision means having a lower false positive rate. \n",
    "\n",
    "$$\\text{Precision = } \\frac{\\text{True Positive}}{\\text{True Positive + False Positive}}$$\n",
    "\n",
    "In our case, this is the number of correctly labeled clients who did agree to the campaign's offer  divided by the total number of customers classified as those who agreed. In other words, correctly labeled 1s divided by the total of customers classified to be in 1s. \n",
    "\n",
    "Why might precision be a useful measure of classifier performance? Imagine that for every positive model prediction, we are going to take some expensive course of action, such as a time-consuming review of content that was flagged as inappropriate by an automated procedure. False positives would waste the valuable time of human reviewers. We would want to be sure that we were making the right decisions on what content received a detailed review. Precision could be a good metric to use in this situation. \n",
    "\n",
    "**Recall:** Recall is the number of true positives divided by the sum of true positives and false negatives. This is also called **sensitivity**. \n",
    "\n",
    "$$\\text{Recall = } \\frac{\\text{True Positive}}{\\text{True Positive + False Negative}}$$\n",
    "\n",
    "High recall reflects a lower false negative rate. For our classifier, it means predicting most 1s correctly.\n",
    "\n",
    "**F1 score:** The F1-score is the harmonic mean of precision and recall. This metric gives equal weight to precision and recall, therefore it factors in both the number of errors made by the model and the type of errors. \n",
    "\n",
    "$$\\text{F1 Score = } 2 \\times \\frac{\\text{ Precision} \\times \\text{Recall}}{\\text{Precision} + \\text{Recall}}$$\n",
    "\n",
    "The F1 score favors models with similar precision and recall, and is a useful metric if we are seeking a model which performs reasonably well across both metrics."
   ]
  },
  {
   "cell_type": "markdown",
   "id": "20b94c27",
   "metadata": {},
   "source": [
    "## Logistic Model\n",
    "\n",
    "Logistic model calculates the probability, $p$, that an observation belongs to a binary class. Using our ifood dataset as an example, if $p\\geq 0.5$, we label the data as one, representing a prediction that an individual is more likely to accept the campaign's offer; if $p\\leq 0.5$, we label it zero to represent that they are more likely to not accept the campaign's offer. We can predict probabilities of each instance belonging to a class by calling logistic regression's `.predict_proba()` method and passing the test features. This returns a 2-dimensional array with probabilities for both classes, in this case, that the individual did not accept the campaign's offer, or did accept, respectively. We slice the second column, representing the probabilities of those who did not accept the campaign's offer. Here we see the model predicts a probability of 0.015 that the first customer has accepted the campaign's offer."
   ]
  },
  {
   "cell_type": "code",
   "execution_count": 5,
   "id": "a622081c",
   "metadata": {},
   "outputs": [
    {
     "data": {
      "text/plain": [
       "0.01504648655079792"
      ]
     },
     "execution_count": 5,
     "metadata": {},
     "output_type": "execute_result"
    }
   ],
   "source": [
    "logreg = ifood_clf.fit(X_train, y_train)\n",
    "y_pred_proba = logreg.predict_proba(X_val)[:, 1]\n",
    "y_pred_proba[0]"
   ]
  },
  {
   "cell_type": "markdown",
   "id": "0e2a434d",
   "metadata": {},
   "source": [
    "### Probability Thresholds and ROC Curve\n",
    "\n",
    "Deciding on a threshold for a classifier is a quite challenging because we have to pick where we are successfully recovering enough true positives, without incurring too many false positives. As the threshold is lowered more and more, there will be more of both. A good classifier will be able to capture more true positives without the expense of a large number of false positives. The default probability threshold for logistic regression in sklearn is 0.5 and this also apply to other models such as KNN. So what happens as we vary this threshold? We can use a receiver operating characteristic, or ROC curve, to visualize how different thresholds affect true positive rates (y-axis) and false positive rates (x-axis). \n",
    "\n",
    "![](roc_curve_explained.png)\n",
    "\n",
    "- Here, the dotted line represents a chance model, which randomly guesses labels. \n",
    "\n",
    "- If the threshold equals one ($p=1$), there are no positive predictions since a logistic regression only predicts probabilities strictly between 0 and 1 (endpoints not included). Since there are no positive predictions, the TPR and the FPR are both 0, so the ROC curve starts out at (0, 0). \n",
    "\n",
    "- As the threshold is lowered, the TPR will start to increase, hopefully faster than the FPR if it's a good classifier. When the threshold is lowered to zero ($p=0$), every sample is predicted to be positive, including all the samples that are, in fact, positive, but also all the samples that are actually negative (incorrectly predicting all negative values). This means the TPR is 1 but the FPR is also 1.\n",
    "\n",
    "- If we vary the threshold, we get a series of different false positive and true positive rates. That is, in between these two extremes ($p=0, p=1$) are the reasonable options for where we may want to set the threshold, depending on the relative costs and benefits of true and false positives and negatives for the specific problem being considered. In this way, it is possible to get a complete picture of the performance of the classifier at all different thresholds to decide which one to use.\n",
    "\n",
    "In a \"good\" ROC curve, as we lower the threshold, we want to see the TPR increase, which means our classifier is doing a good job of correctly identifying positive samples. At the same time, ideally the FPR should not increase that much. The ROC curve of an effective classifier would hug the upper left corner of the plot: high TPR, low FPR. A perfect classifier would get a TPR of 1 (recovers all the positive samples) and an FPR of 0 and appear as a sort of square starting at (0,0), going up to (0,1), and finishing at (1,1). While in practice this kind of performance is highly unlikely, it gives us a limiting case. Values close to 0.5 indicate the model can do little better than random chance (coin flip) as a classifier, while values closer to 1 indicate better performance. The ROC AUC is a key metric for the quality of a classifier and is widely used in machine learning. The ROC AUC may also be referred to as the **C-statistic** (concordance statistic).\n",
    "\n",
    "A line plot of the thresholds helps to visualize the trend. To visualize the ROC curve, we use the `roc_curve()` function where we pass the test labels as the first argument and the predicted probabilities as the second argument. The results are unpacked into three variables false positive rate, `fpr`; true positive rate, `tpr`; and the thresholds. We can then plot a dotted line from zero to one, along with the `fpr` and `tpr`. Here we just use a slight different method but the concept remains the same. We can see that the ROC curve starts at (0,0) with a threshold high enough so that there are no positive classifications. Then the first thing that happens, as we imagined previously when lowering the threshold to about 0.25, is that we get an increase in the TPR, but very little increase in the FPR. This means our classifier is doing a good job of correctly identifying positive samples. We can see the thresholds that lead to these rates by examining the threshold array, which is not part of the plot. One thing that is noticeable is that the first threshold is actually above 1; practically speaking, it just needs to be a threshold that's high enough that there are no positive classifications."
   ]
  },
  {
   "cell_type": "code",
   "execution_count": 6,
   "id": "05f95655",
   "metadata": {},
   "outputs": [
    {
     "data": {
      "image/png": "[encoded data removed]",
      "text/plain": [
       "<Figure size 432x288 with 1 Axes>"
      ]
     },
     "metadata": {
      "needs_background": "light"
     },
     "output_type": "display_data"
    }
   ],
   "source": [
    "y_score = logreg.decision_function(X_val)\n",
    "fpr, tpr, thresh = roc_curve(y_val, y_score, \n",
    "                             pos_label=logreg.classes_[1])\n",
    "\n",
    "roc_display = (RocCurveDisplay(fpr=fpr, tpr=tpr)\n",
    "               .plot(label='Log Reg AUC = %.02f'%(auc(fpr, tpr))))\n",
    "plt.plot([0, 1], [0, 1], 'r--', label='Random Chance = 0.5')\n",
    "plt.title('Logistic Regression ROC Curve\\n', size=14)\n",
    "plt.legend()\n",
    "plt.axis([0, 1, 0, 1]);"
   ]
  },
  {
   "cell_type": "markdown",
   "id": "90012026",
   "metadata": {},
   "source": [
    "### Precision Recall Curve\n",
    "\n",
    "The precision diagnostic is useful over a range of threshold, that is, across the range of predicted probabilities, as we did for the ROC curve. At a high threshold there will be relatively few samples predicted as positive. As we lower the threshold more and more will be predicted as positive. Our hope is that as we do this, the number of true positives increases more quickly than the number of false positives as we saw on the ROC curve. Precision looks at the ratio of the number of true positives to the sum of true and false positives. \n",
    "\n",
    "$$\\text{Precision = } \\frac{\\text{TP}}{\\text{TP + FP}}$$\n",
    "\n",
    "Think about the denominator here what is the sum of true and false positives? This sum is in fact the total number of positive predictions, since all positive predictions will be either correct or incorrect. So, precision measures the ratio of positive predictions that are correct to all positive predictions. For this reason, it is also called the positive predictive value. If there are very few positive samples, precision gives a more critical assessment of the quality of a classifier than the ROC AUC. As with the ROC curve, there is a convenient function in scikit-learn to calculate precision, together with recall (also known as the TPR), over a range of thresholds; `precision_recall_curve()`.\n",
    "\n",
    "Precision and recall are often plotted together to assess the quality of positive predictions as far as what fraction are correct, while at the same time considering what fraction of the positive class a model is able to identify. Note that we put recall on the x-axis and precision on the y-axis, and we set the axes' limits to the range `[0, 1]`. Note that we also calculate the area under the precision-recall curve and use it as a legend. Scikit-learn offers functionality for calculating an AUC for any set of x-y data, `auc()`, using the trapezoid rule, which we may recall from calculus. We see that the precision-recall curve shows that precision is generally fairly high for this model; for nearly all of the range of thresholds, the precision, or portion of positive classifications that are correct, is more than half. We can calculate the area under the precision-recall curve as a way to compare this classifier with other models or feature sets we may consider."
   ]
  },
  {
   "cell_type": "code",
   "execution_count": 7,
   "id": "08007ba4",
   "metadata": {},
   "outputs": [
    {
     "data": {
      "image/png": "[encoded data removed]",
      "text/plain": [
       "<Figure size 432x288 with 1 Axes>"
      ]
     },
     "metadata": {
      "needs_background": "light"
     },
     "output_type": "display_data"
    }
   ],
   "source": [
    "log_prec, log_rec, _ = precision_recall_curve(y_val, \n",
    "                                              y_pred_proba)\n",
    "\n",
    "(PrecisionRecallDisplay(precision=log_prec, \n",
    "                        recall=log_rec)\n",
    " .plot(label='Log Reg AUC = %0.2f'% (auc(log_rec, \n",
    "                                         log_prec))))\n",
    "\n",
    "plt.xlim([0, 1])\n",
    "plt.ylim([0, 1.01])\n",
    "plt.title('Precision-Recall for the logistic regression\\n', \n",
    "          size=14);"
   ]
  },
  {
   "cell_type": "markdown",
   "id": "7367e6c8",
   "metadata": {},
   "source": [
    "### Model Validation and Optimization\n",
    "\n",
    "If we compute an accuracy score on our test set, the result is dependent on how we split up the data! The data points in the test set may have some irregularities, which means that the accuracy computed on them is not typical of the model's ability to generalize to previously unseen data. To overcome this reliance on what is basically a random split, we employ a technique known as cross-validation. The dataset is randomly divided into 'k' groups when cross-validation is used. One of the groups is the test set, while the others are the training set. The model is trained using the training set, and it is scored using the test set. After that, the process is repeated until each separate group has been employed as the test set. As a result, cross validation allows our model to train on different train-test splits, providing us with a better understanding of how well our model will perform on unobserved data. Cross-validation requires more processing power and time to run than the holdout approach since it involves multiple train-test splits. Hold-out, on the other hand, is reliant on a single train-test split. As a result, the hold-out method score is affected by how the data is divided into train and test sets. \n",
    "\n",
    "We'll use 5 cross-validation to train and test our model(s) here. We'll pass our model, our data, and the number of splits to the `cross val score()` function, which will split our data into 5 groups and fit and score our data 5 times. It will save the accuracy score in an array each time. We'll use numpy's `.mean()` function to get the average accuracy score using these recorded accuracy scores. The average accuracy and standard deviation of each fold is $0.89 \\pm 0.01$ which in fact is equal to the accuracy score we got earlier."
   ]
  },
  {
   "cell_type": "code",
   "execution_count": 8,
   "id": "a0a84445",
   "metadata": {},
   "outputs": [
    {
     "name": "stdout",
     "output_type": "stream",
     "text": [
      "Accuracy = 0.89 +/- 0.01\n"
     ]
    }
   ],
   "source": [
    "scores = cross_val_score(estimator=logreg, \n",
    "                         X=X_train, \n",
    "                         y=y_train, \n",
    "                         cv=10)\n",
    "print('Accuracy = {:.2f} +/- {:.2f}'.format(scores.mean(), \n",
    "                                            scores.std()))"
   ]
  },
  {
   "cell_type": "markdown",
   "id": "4166cee2",
   "metadata": {},
   "source": [
    "Using `cross_val_score` is a convenient way to accomplish k-fold cross validation, but it doesn't tell us about the accuracies within each class. Since our problem is sensitive to each class' accuracy we will need to manually implement k-fold cross validation so that this information is available to us. In particular, we are interested in the accuracy of class 1, which represents the customers who accept this campaign's offer. Therefore, we'll define a function `cross_val_class_score()`. In the function, we implement k-fold cross validation manually using `StratifiedKFold()` class. This class takes the number of folds as an initialization argument and provides the `.split()` method to build randomly sampled masks for the data. In this instance, a mask is simply an array containing indexes of items in another array, where the items can then be returned by running code such as `data[mask]`. We use the indexes calculated from these masks to make a confusion matrix which we then use to calculate the accuracy scores for each fold. We return the list containing the accuracy scores as an array to allow for mathematical manipulations."
   ]
  },
  {
   "cell_type": "code",
   "execution_count": 9,
   "id": "152865f8",
   "metadata": {},
   "outputs": [
    {
     "data": {
      "text/plain": [
       "<function __main__.cross_val_class_score(clf, X, y, cv=10)>"
      ]
     },
     "execution_count": 9,
     "metadata": {},
     "output_type": "execute_result"
    }
   ],
   "source": [
    "def cross_val_class_score(clf, X, y, cv=10):\n",
    "    kfold = (StratifiedKFold(n_splits=cv, \n",
    "                             shuffle=True,\n",
    "                             random_state=123).split(X, y))\n",
    "    class_accuracy = []\n",
    "    for k, (train, test) in enumerate(kfold):\n",
    "        clf.fit(X.iloc[train], y.iloc[train])\n",
    "        y_test2 = y.iloc[test]\n",
    "        y_pred2 = clf.predict(X.iloc[test])\n",
    "        \n",
    "        cmat = confusion_matrix(y_test2, y_pred2)\n",
    "        class_acc = cmat.diagonal()/cmat.sum(axis=1)\n",
    "        class_accuracy.append(class_acc)\n",
    "        print('fold: {:d} accuracy: {:s}'.format(k+1, \n",
    "                                                 str(class_acc)))\n",
    "    return np.asarray(class_accuracy)\n",
    "\n",
    "cross_val_class_score"
   ]
  },
  {
   "cell_type": "markdown",
   "id": "fc5519de",
   "metadata": {},
   "source": [
    "Having defined this function, we can now calculate the class accuracies with code that's very similar to `cross_val_score()` from before. The values returned corresponds to class 0 and the second correspond to class 1."
   ]
  },
  {
   "cell_type": "code",
   "execution_count": 10,
   "id": "5886ec37",
   "metadata": {
    "scrolled": true
   },
   "outputs": [
    {
     "name": "stdout",
     "output_type": "stream",
     "text": [
      "fold: 1 accuracy: [0.97894737 0.44117647]\n",
      "fold: 2 accuracy: [0.97894737 0.38235294]\n",
      "fold: 3 accuracy: [0.94736842 0.47058824]\n",
      "fold: 4 accuracy: [0.95263158 0.61764706]\n",
      "fold: 5 accuracy: [0.97382199 0.63636364]\n",
      "fold: 6 accuracy: [0.96335079 0.39393939]\n",
      "fold: 7 accuracy: [0.95811518 0.51515152]\n",
      "fold: 8 accuracy: [0.98429319 0.33333333]\n",
      "fold: 9 accuracy: [0.97382199 0.45454545]\n",
      "fold: 10 accuracy: [0.97382199 0.39393939]\n",
      "\n",
      "Accuracy = [0.96851199 0.46390374] +/- [0.0117703  0.09494405]\n"
     ]
    }
   ],
   "source": [
    "strat_scores = cross_val_class_score(logreg, X, y)\n",
    "print()\n",
    "print('Accuracy = {} +/- {}'\\\n",
    "      .format(strat_scores.mean(axis=0), \n",
    "              strat_scores.std(axis=0)))"
   ]
  },
  {
   "cell_type": "markdown",
   "id": "0d084c64",
   "metadata": {},
   "source": [
    "Having seen k-fold cross validation in action, we'll move on to the topic of validation curves. These can be generated easily with scikit-learn. The `validation_curve()` function is used to calculate validation curves. This function uses stratified k-fold cross validation to train models for various\n",
    "values of a specified hyperparameter. Here, we'll perform the calculations required to plot a validation curve. The function returns arrays with the cross validation (training and test) scores of models, where each has a different `C` variable. "
   ]
  },
  {
   "cell_type": "code",
   "execution_count": 11,
   "id": "a03c1feb",
   "metadata": {},
   "outputs": [],
   "source": [
    "C_range = [0.01, 0.05, 0.1, 0.3, 0.5]\n",
    "train_scores, test_scores =\\\n",
    "        validation_curve(estimator=logreg, \n",
    "                         X=X, \n",
    "                         y=y, \n",
    "                         param_name='classifier__C', \n",
    "                         param_range=C_range, \n",
    "                         cv=10)"
   ]
  },
  {
   "cell_type": "markdown",
   "id": "ee171538",
   "metadata": {},
   "source": [
    "To visualize the results, we'll define a function `plot_validation_curve()` whose complete code can be found [here](https://scikit-learn.org/stable/auto_examples/model_selection/plot_learning_curve.html) and [here](https://github.com/PacktWorkshops/The-Applied-Data-Science-Workshop/blob/master/chapter-05/chapter_5_workbook.ipynb)."
   ]
  },
  {
   "cell_type": "code",
   "execution_count": 12,
   "id": "f4dba160",
   "metadata": {},
   "outputs": [
    {
     "data": {
      "text/plain": [
       "<function __main__.plot_validation_curve(train_scores, test_scores, param_range, xlabel='', log=False)>"
      ]
     },
     "execution_count": 12,
     "metadata": {},
     "output_type": "execute_result"
    }
   ],
   "source": [
    "def plot_validation_curve(train_scores, test_scores, \n",
    "                          param_range, xlabel='', \n",
    "                          log=False,):\n",
    "    \n",
    "    \"\"\"This code is from scikit-learn docs (BSD License).\n",
    "    It plots the validation curve scores together with the \n",
    "    standard deviations.\n",
    "    \"\"\"\n",
    "    train_mean = np.mean(train_scores, axis=1)\n",
    "    train_std = np.std(train_scores, axis=1)\n",
    "    test_mean = np.mean(test_scores, axis=1)\n",
    "    test_std = np.std(test_scores, axis=1)\n",
    "\n",
    "    fig = plt.figure(figsize=(8, 3.5))\n",
    "    \n",
    "    plt.plot(param_range, train_mean, \n",
    "             color=sns.color_palette('Set1')[1], marker='o', \n",
    "             markersize=5, label='training accuracy')\n",
    "\n",
    "    plt.fill_between(param_range, train_mean + train_std,\n",
    "                     train_mean - train_std, alpha=0.15,\n",
    "                     color=sns.color_palette('Set1')[1])\n",
    "\n",
    "    plt.plot(param_range, test_mean, \n",
    "             color=sns.color_palette('Set1')[0], linestyle='--', \n",
    "             marker='s', markersize=5, \n",
    "             label='validation accuracy')\n",
    "\n",
    "    plt.fill_between(param_range, \n",
    "                     test_mean + test_std,\n",
    "                     test_mean - test_std, \n",
    "                     alpha=0.15, color=sns.color_palette('Set1')[0])\n",
    "\n",
    "    if log:\n",
    "        plt.xscale('log')\n",
    "    plt.legend(loc='lower right')\n",
    "    if xlabel:\n",
    "        plt.xlabel(xlabel)\n",
    "    plt.ylabel('Accuracy')\n",
    "    plt.ylim(0.9, 1.0)\n",
    "    return fig\n",
    "\n",
    "plot_validation_curve"
   ]
  },
  {
   "cell_type": "markdown",
   "id": "db536d06",
   "metadata": {},
   "source": [
    "With the function defined, we can see that to some extent, the `C` parameter for logistic regression controls the balance between underfitting and overfitting. This is reflected in the validation curve,\n",
    "where we can see low accuracies for small `C` values (underfitting), since we are not allowing the logistic regression to create enough regulation to capture the patterns in the data. For large `C` values to the right of the chart, we can see the opposite happen, as the logistic regression here overfit the training data. This is evidenced from the fact that our validation accuracy (red squares) decreases as the `C` increases and then levels off. Notice how the training accuracy (blue circles) and validation accuracy (red dots) continues increasing as the `C` increases until a point where they almost level off. This happens because the logistic regression is able to capture increasingly detailed patterns in the training data. By looking at the validation accuracies, we can see that these patterns do not generalize well for unseen data. Based on this chart, a good value for `C` appears to be 0.01. At this point, we can see that the validation accuracy has hit a maximum and that the training and validation accuracies are agreement (within error)."
   ]
  },
  {
   "cell_type": "code",
   "execution_count": 13,
   "id": "81488e20",
   "metadata": {},
   "outputs": [
    {
     "data": {
      "image/png": "[encoded data removed]",
      "text/plain": [
       "<Figure size 576x252 with 1 Axes>"
      ]
     },
     "metadata": {
      "needs_background": "light"
     },
     "output_type": "display_data"
    }
   ],
   "source": [
    "plot_validation_curve(train_scores,\n",
    "                      test_scores,\n",
    "                      C_range,\n",
    "                      xlabel='C Parameter')\n",
    "plt.ylim(0.86, 0.93)\n",
    "plt.legend()\n",
    "plt.title('Validation Curve');"
   ]
  },
  {
   "cell_type": "markdown",
   "id": "2055eaa6",
   "metadata": {},
   "source": [
    "To perform cross-validation we then create a `KFold()` object, instantiate a logistic regression model, and call `cross_val_score()`. \n",
    "\n",
    "We set `scoring` equal to `\"neg_mean_squared_error\"`, which returns the negative MSE. This is because scikit-learn's cross-validation metrics presume a higher score is better, so MSE is changed to negative to counteract this. We can calculate the training RMSE by taking the square root and converting to positive, achieved by calling numpy-dot-square-root and passing our scores with a minus sign in front.\n",
    "\n",
    "\n",
    "Another method imported is `StratifiedKFold()`, which allows us to set a seed and shuffle our data, making our results repeatable downstream. Stratified k-fold cross validation maintains roughly even class\n",
    "label populations in the folds. As we can imagine, this reduces the overall variance in the models and decreases the likelihood of highly unbalanced models causing bias.\n",
    "\n",
    "\n",
    "We first call KFold. The n_splits argument has a default of five, but in this case we assign six, allowing us to use six folds from our dataset for cross-validation. We also set shuffle to True, which shuffles our dataset before splitting into folds. We also assign a seed to the random_state keyword argument, ensuring our data would be split in the same way if we repeat the process making the results repeatable downstream. We save this as the variable kf. As usual, we instantiate our model, in this case, linear regression. We then call cross_val_score, passing the model, the feature data, and the target data as the first three positional arguments. We also specify the number of folds by setting the keyword argument cv equal to our kf variable. This returns an array of cross-validation scores, which we assign to cv_results. The length of the array is the number of folds utilized. Note that the score reported is R squared, as this is the default score for linear regression."
   ]
  },
  {
   "cell_type": "markdown",
   "id": "efc69ba4",
   "metadata": {},
   "source": [
    "## Hyperparameter Tuning\n",
    "\n",
    "In this section, the model parameters are tuned to determine the best model parameters that can be used for prediction"
   ]
  },
  {
   "cell_type": "code",
   "execution_count": 14,
   "id": "dfc8686d",
   "metadata": {},
   "outputs": [
    {
     "name": "stdout",
     "output_type": "stream",
     "text": [
      "Fitting 5 folds for each of 36 candidates, totalling 180 fits\n"
     ]
    },
    {
     "name": "stderr",
     "output_type": "stream",
     "text": [
      "C:\\ProgramData\\Anaconda3\\envs\\marketing_analytics\\lib\\site-packages\\sklearn\\model_selection\\_validation.py:372: FitFailedWarning: \n",
      "180 fits failed out of a total of 180.\n",
      "The score on these train-test partitions for these parameters will be set to nan.\n",
      "If these failures are not expected, you can try to debug them by setting error_score='raise'.\n",
      "\n",
      "Below are more details about the failures:\n",
      "--------------------------------------------------------------------------------\n",
      "36 fits failed with the following error:\n",
      "Traceback (most recent call last):\n",
      "  File \"C:\\ProgramData\\Anaconda3\\envs\\marketing_analytics\\lib\\site-packages\\sklearn\\model_selection\\_validation.py\", line 680, in _fit_and_score\n",
      "    estimator.fit(X_train, y_train, **fit_params)\n",
      "  File \"C:\\ProgramData\\Anaconda3\\envs\\marketing_analytics\\lib\\site-packages\\sklearn\\ensemble\\_forest.py\", line 327, in fit\n",
      "    X, y = self._validate_data(\n",
      "  File \"C:\\ProgramData\\Anaconda3\\envs\\marketing_analytics\\lib\\site-packages\\sklearn\\base.py\", line 581, in _validate_data\n",
      "    X, y = check_X_y(X, y, **check_params)\n",
      "  File \"C:\\ProgramData\\Anaconda3\\envs\\marketing_analytics\\lib\\site-packages\\sklearn\\utils\\validation.py\", line 964, in check_X_y\n",
      "    X = check_array(\n",
      "  File \"C:\\ProgramData\\Anaconda3\\envs\\marketing_analytics\\lib\\site-packages\\sklearn\\utils\\validation.py\", line 746, in check_array\n",
      "    array = np.asarray(array, order=order, dtype=dtype)\n",
      "  File \"C:\\ProgramData\\Anaconda3\\envs\\marketing_analytics\\lib\\site-packages\\pandas\\core\\generic.py\", line 2064, in __array__\n",
      "    return np.asarray(self._values, dtype=dtype)\n",
      "ValueError: could not convert string to float: 'PhD'\n",
      "\n",
      "--------------------------------------------------------------------------------\n",
      "144 fits failed with the following error:\n",
      "Traceback (most recent call last):\n",
      "  File \"C:\\ProgramData\\Anaconda3\\envs\\marketing_analytics\\lib\\site-packages\\sklearn\\model_selection\\_validation.py\", line 680, in _fit_and_score\n",
      "    estimator.fit(X_train, y_train, **fit_params)\n",
      "  File \"C:\\ProgramData\\Anaconda3\\envs\\marketing_analytics\\lib\\site-packages\\sklearn\\ensemble\\_forest.py\", line 327, in fit\n",
      "    X, y = self._validate_data(\n",
      "  File \"C:\\ProgramData\\Anaconda3\\envs\\marketing_analytics\\lib\\site-packages\\sklearn\\base.py\", line 581, in _validate_data\n",
      "    X, y = check_X_y(X, y, **check_params)\n",
      "  File \"C:\\ProgramData\\Anaconda3\\envs\\marketing_analytics\\lib\\site-packages\\sklearn\\utils\\validation.py\", line 964, in check_X_y\n",
      "    X = check_array(\n",
      "  File \"C:\\ProgramData\\Anaconda3\\envs\\marketing_analytics\\lib\\site-packages\\sklearn\\utils\\validation.py\", line 746, in check_array\n",
      "    array = np.asarray(array, order=order, dtype=dtype)\n",
      "  File \"C:\\ProgramData\\Anaconda3\\envs\\marketing_analytics\\lib\\site-packages\\pandas\\core\\generic.py\", line 2064, in __array__\n",
      "    return np.asarray(self._values, dtype=dtype)\n",
      "ValueError: could not convert string to float: 'Graduation'\n",
      "\n",
      "  warnings.warn(some_fits_failed_message, FitFailedWarning)\n",
      "C:\\ProgramData\\Anaconda3\\envs\\marketing_analytics\\lib\\site-packages\\sklearn\\model_selection\\_search.py:969: UserWarning: One or more of the test scores are non-finite: [nan nan nan nan nan nan nan nan nan nan nan nan nan nan nan nan nan nan\n",
      " nan nan nan nan nan nan nan nan nan nan nan nan nan nan nan nan nan nan]\n",
      "  warnings.warn(\n"
     ]
    },
    {
     "ename": "ValueError",
     "evalue": "could not convert string to float: 'Graduation'",
     "output_type": "error",
     "traceback": [
      "\u001b[1;31m---------------------------------------------------------------------------\u001b[0m",
      "\u001b[1;31mValueError\u001b[0m                                Traceback (most recent call last)",
      "Input \u001b[1;32mIn [14]\u001b[0m, in \u001b[0;36m<cell line: 12>\u001b[1;34m()\u001b[0m\n\u001b[0;32m      1\u001b[0m param_rfc \u001b[38;5;241m=\u001b[39m { \n\u001b[0;32m      2\u001b[0m     \u001b[38;5;124m'\u001b[39m\u001b[38;5;124mn_estimators\u001b[39m\u001b[38;5;124m'\u001b[39m: [\u001b[38;5;241m50\u001b[39m, \u001b[38;5;241m100\u001b[39m, \u001b[38;5;241m200\u001b[39m],\n\u001b[0;32m      3\u001b[0m     \u001b[38;5;124m'\u001b[39m\u001b[38;5;124mmax_features\u001b[39m\u001b[38;5;124m'\u001b[39m: [\u001b[38;5;124m'\u001b[39m\u001b[38;5;124mauto\u001b[39m\u001b[38;5;124m'\u001b[39m],\n\u001b[0;32m      4\u001b[0m     \u001b[38;5;124m'\u001b[39m\u001b[38;5;124mmax_depth\u001b[39m\u001b[38;5;124m'\u001b[39m : [\u001b[38;5;28;01mNone\u001b[39;00m,\u001b[38;5;241m3\u001b[39m,\u001b[38;5;241m5\u001b[39m,\u001b[38;5;241m8\u001b[39m],\n\u001b[0;32m      5\u001b[0m     \u001b[38;5;124m'\u001b[39m\u001b[38;5;124mcriterion\u001b[39m\u001b[38;5;124m'\u001b[39m :[\u001b[38;5;124m'\u001b[39m\u001b[38;5;124mgini\u001b[39m\u001b[38;5;124m'\u001b[39m],\n\u001b[0;32m      6\u001b[0m     \u001b[38;5;124m'\u001b[39m\u001b[38;5;124mmin_samples_split\u001b[39m\u001b[38;5;124m'\u001b[39m:[\u001b[38;5;241m2\u001b[39m,\u001b[38;5;241m3\u001b[39m,\u001b[38;5;241m4\u001b[39m]}\n\u001b[0;32m      8\u001b[0m rfc_cv \u001b[38;5;241m=\u001b[39m GridSearchCV(RandomForestClassifier(random_state\u001b[38;5;241m=\u001b[39m\u001b[38;5;241m5\u001b[39m),\n\u001b[0;32m      9\u001b[0m                             param_grid\u001b[38;5;241m=\u001b[39mparam_rfc,\n\u001b[0;32m     10\u001b[0m                             cv\u001b[38;5;241m=\u001b[39m\u001b[38;5;241m5\u001b[39m, verbose\u001b[38;5;241m=\u001b[39m\u001b[38;5;241m1\u001b[39m)\n\u001b[1;32m---> 12\u001b[0m \u001b[43mrfc_cv\u001b[49m\u001b[38;5;241;43m.\u001b[39;49m\u001b[43mfit\u001b[49m\u001b[43m(\u001b[49m\u001b[43mX_train\u001b[49m\u001b[43m,\u001b[49m\u001b[43m \u001b[49m\u001b[43my_train\u001b[49m\u001b[43m)\u001b[49m\n\u001b[0;32m     13\u001b[0m rfc_tune_acc \u001b[38;5;241m=\u001b[39m pipe_fit_score(rfc_cv\u001b[38;5;241m.\u001b[39mbest_estimator_)\n\u001b[0;32m     14\u001b[0m \u001b[38;5;28mprint\u001b[39m(\u001b[38;5;124m'\u001b[39m\u001b[38;5;124mAccuracy: \u001b[39m\u001b[38;5;124m'\u001b[39m, rfc_tune_acc)\n",
      "File \u001b[1;32mC:\\ProgramData\\Anaconda3\\envs\\marketing_analytics\\lib\\site-packages\\sklearn\\model_selection\\_search.py:926\u001b[0m, in \u001b[0;36mBaseSearchCV.fit\u001b[1;34m(self, X, y, groups, **fit_params)\u001b[0m\n\u001b[0;32m    924\u001b[0m refit_start_time \u001b[38;5;241m=\u001b[39m time\u001b[38;5;241m.\u001b[39mtime()\n\u001b[0;32m    925\u001b[0m \u001b[38;5;28;01mif\u001b[39;00m y \u001b[38;5;129;01mis\u001b[39;00m \u001b[38;5;129;01mnot\u001b[39;00m \u001b[38;5;28;01mNone\u001b[39;00m:\n\u001b[1;32m--> 926\u001b[0m     \u001b[38;5;28mself\u001b[39m\u001b[38;5;241m.\u001b[39mbest_estimator_\u001b[38;5;241m.\u001b[39mfit(X, y, \u001b[38;5;241m*\u001b[39m\u001b[38;5;241m*\u001b[39mfit_params)\n\u001b[0;32m    927\u001b[0m \u001b[38;5;28;01melse\u001b[39;00m:\n\u001b[0;32m    928\u001b[0m     \u001b[38;5;28mself\u001b[39m\u001b[38;5;241m.\u001b[39mbest_estimator_\u001b[38;5;241m.\u001b[39mfit(X, \u001b[38;5;241m*\u001b[39m\u001b[38;5;241m*\u001b[39mfit_params)\n",
      "File \u001b[1;32mC:\\ProgramData\\Anaconda3\\envs\\marketing_analytics\\lib\\site-packages\\sklearn\\ensemble\\_forest.py:327\u001b[0m, in \u001b[0;36mBaseForest.fit\u001b[1;34m(self, X, y, sample_weight)\u001b[0m\n\u001b[0;32m    325\u001b[0m \u001b[38;5;28;01mif\u001b[39;00m issparse(y):\n\u001b[0;32m    326\u001b[0m     \u001b[38;5;28;01mraise\u001b[39;00m \u001b[38;5;167;01mValueError\u001b[39;00m(\u001b[38;5;124m\"\u001b[39m\u001b[38;5;124msparse multilabel-indicator for y is not supported.\u001b[39m\u001b[38;5;124m\"\u001b[39m)\n\u001b[1;32m--> 327\u001b[0m X, y \u001b[38;5;241m=\u001b[39m \u001b[38;5;28;43mself\u001b[39;49m\u001b[38;5;241;43m.\u001b[39;49m\u001b[43m_validate_data\u001b[49m\u001b[43m(\u001b[49m\n\u001b[0;32m    328\u001b[0m \u001b[43m    \u001b[49m\u001b[43mX\u001b[49m\u001b[43m,\u001b[49m\u001b[43m \u001b[49m\u001b[43my\u001b[49m\u001b[43m,\u001b[49m\u001b[43m \u001b[49m\u001b[43mmulti_output\u001b[49m\u001b[38;5;241;43m=\u001b[39;49m\u001b[38;5;28;43;01mTrue\u001b[39;49;00m\u001b[43m,\u001b[49m\u001b[43m \u001b[49m\u001b[43maccept_sparse\u001b[49m\u001b[38;5;241;43m=\u001b[39;49m\u001b[38;5;124;43m\"\u001b[39;49m\u001b[38;5;124;43mcsc\u001b[39;49m\u001b[38;5;124;43m\"\u001b[39;49m\u001b[43m,\u001b[49m\u001b[43m \u001b[49m\u001b[43mdtype\u001b[49m\u001b[38;5;241;43m=\u001b[39;49m\u001b[43mDTYPE\u001b[49m\n\u001b[0;32m    329\u001b[0m \u001b[43m\u001b[49m\u001b[43m)\u001b[49m\n\u001b[0;32m    330\u001b[0m \u001b[38;5;28;01mif\u001b[39;00m sample_weight \u001b[38;5;129;01mis\u001b[39;00m \u001b[38;5;129;01mnot\u001b[39;00m \u001b[38;5;28;01mNone\u001b[39;00m:\n\u001b[0;32m    331\u001b[0m     sample_weight \u001b[38;5;241m=\u001b[39m _check_sample_weight(sample_weight, X)\n",
      "File \u001b[1;32mC:\\ProgramData\\Anaconda3\\envs\\marketing_analytics\\lib\\site-packages\\sklearn\\base.py:581\u001b[0m, in \u001b[0;36mBaseEstimator._validate_data\u001b[1;34m(self, X, y, reset, validate_separately, **check_params)\u001b[0m\n\u001b[0;32m    579\u001b[0m         y \u001b[38;5;241m=\u001b[39m check_array(y, \u001b[38;5;241m*\u001b[39m\u001b[38;5;241m*\u001b[39mcheck_y_params)\n\u001b[0;32m    580\u001b[0m     \u001b[38;5;28;01melse\u001b[39;00m:\n\u001b[1;32m--> 581\u001b[0m         X, y \u001b[38;5;241m=\u001b[39m check_X_y(X, y, \u001b[38;5;241m*\u001b[39m\u001b[38;5;241m*\u001b[39mcheck_params)\n\u001b[0;32m    582\u001b[0m     out \u001b[38;5;241m=\u001b[39m X, y\n\u001b[0;32m    584\u001b[0m \u001b[38;5;28;01mif\u001b[39;00m \u001b[38;5;129;01mnot\u001b[39;00m no_val_X \u001b[38;5;129;01mand\u001b[39;00m check_params\u001b[38;5;241m.\u001b[39mget(\u001b[38;5;124m\"\u001b[39m\u001b[38;5;124mensure_2d\u001b[39m\u001b[38;5;124m\"\u001b[39m, \u001b[38;5;28;01mTrue\u001b[39;00m):\n",
      "File \u001b[1;32mC:\\ProgramData\\Anaconda3\\envs\\marketing_analytics\\lib\\site-packages\\sklearn\\utils\\validation.py:964\u001b[0m, in \u001b[0;36mcheck_X_y\u001b[1;34m(X, y, accept_sparse, accept_large_sparse, dtype, order, copy, force_all_finite, ensure_2d, allow_nd, multi_output, ensure_min_samples, ensure_min_features, y_numeric, estimator)\u001b[0m\n\u001b[0;32m    961\u001b[0m \u001b[38;5;28;01mif\u001b[39;00m y \u001b[38;5;129;01mis\u001b[39;00m \u001b[38;5;28;01mNone\u001b[39;00m:\n\u001b[0;32m    962\u001b[0m     \u001b[38;5;28;01mraise\u001b[39;00m \u001b[38;5;167;01mValueError\u001b[39;00m(\u001b[38;5;124m\"\u001b[39m\u001b[38;5;124my cannot be None\u001b[39m\u001b[38;5;124m\"\u001b[39m)\n\u001b[1;32m--> 964\u001b[0m X \u001b[38;5;241m=\u001b[39m \u001b[43mcheck_array\u001b[49m\u001b[43m(\u001b[49m\n\u001b[0;32m    965\u001b[0m \u001b[43m    \u001b[49m\u001b[43mX\u001b[49m\u001b[43m,\u001b[49m\n\u001b[0;32m    966\u001b[0m \u001b[43m    \u001b[49m\u001b[43maccept_sparse\u001b[49m\u001b[38;5;241;43m=\u001b[39;49m\u001b[43maccept_sparse\u001b[49m\u001b[43m,\u001b[49m\n\u001b[0;32m    967\u001b[0m \u001b[43m    \u001b[49m\u001b[43maccept_large_sparse\u001b[49m\u001b[38;5;241;43m=\u001b[39;49m\u001b[43maccept_large_sparse\u001b[49m\u001b[43m,\u001b[49m\n\u001b[0;32m    968\u001b[0m \u001b[43m    \u001b[49m\u001b[43mdtype\u001b[49m\u001b[38;5;241;43m=\u001b[39;49m\u001b[43mdtype\u001b[49m\u001b[43m,\u001b[49m\n\u001b[0;32m    969\u001b[0m \u001b[43m    \u001b[49m\u001b[43morder\u001b[49m\u001b[38;5;241;43m=\u001b[39;49m\u001b[43morder\u001b[49m\u001b[43m,\u001b[49m\n\u001b[0;32m    970\u001b[0m \u001b[43m    \u001b[49m\u001b[43mcopy\u001b[49m\u001b[38;5;241;43m=\u001b[39;49m\u001b[43mcopy\u001b[49m\u001b[43m,\u001b[49m\n\u001b[0;32m    971\u001b[0m \u001b[43m    \u001b[49m\u001b[43mforce_all_finite\u001b[49m\u001b[38;5;241;43m=\u001b[39;49m\u001b[43mforce_all_finite\u001b[49m\u001b[43m,\u001b[49m\n\u001b[0;32m    972\u001b[0m \u001b[43m    \u001b[49m\u001b[43mensure_2d\u001b[49m\u001b[38;5;241;43m=\u001b[39;49m\u001b[43mensure_2d\u001b[49m\u001b[43m,\u001b[49m\n\u001b[0;32m    973\u001b[0m \u001b[43m    \u001b[49m\u001b[43mallow_nd\u001b[49m\u001b[38;5;241;43m=\u001b[39;49m\u001b[43mallow_nd\u001b[49m\u001b[43m,\u001b[49m\n\u001b[0;32m    974\u001b[0m \u001b[43m    \u001b[49m\u001b[43mensure_min_samples\u001b[49m\u001b[38;5;241;43m=\u001b[39;49m\u001b[43mensure_min_samples\u001b[49m\u001b[43m,\u001b[49m\n\u001b[0;32m    975\u001b[0m \u001b[43m    \u001b[49m\u001b[43mensure_min_features\u001b[49m\u001b[38;5;241;43m=\u001b[39;49m\u001b[43mensure_min_features\u001b[49m\u001b[43m,\u001b[49m\n\u001b[0;32m    976\u001b[0m \u001b[43m    \u001b[49m\u001b[43mestimator\u001b[49m\u001b[38;5;241;43m=\u001b[39;49m\u001b[43mestimator\u001b[49m\u001b[43m,\u001b[49m\n\u001b[0;32m    977\u001b[0m \u001b[43m\u001b[49m\u001b[43m)\u001b[49m\n\u001b[0;32m    979\u001b[0m y \u001b[38;5;241m=\u001b[39m _check_y(y, multi_output\u001b[38;5;241m=\u001b[39mmulti_output, y_numeric\u001b[38;5;241m=\u001b[39my_numeric)\n\u001b[0;32m    981\u001b[0m check_consistent_length(X, y)\n",
      "File \u001b[1;32mC:\\ProgramData\\Anaconda3\\envs\\marketing_analytics\\lib\\site-packages\\sklearn\\utils\\validation.py:746\u001b[0m, in \u001b[0;36mcheck_array\u001b[1;34m(array, accept_sparse, accept_large_sparse, dtype, order, copy, force_all_finite, ensure_2d, allow_nd, ensure_min_samples, ensure_min_features, estimator)\u001b[0m\n\u001b[0;32m    744\u001b[0m         array \u001b[38;5;241m=\u001b[39m array\u001b[38;5;241m.\u001b[39mastype(dtype, casting\u001b[38;5;241m=\u001b[39m\u001b[38;5;124m\"\u001b[39m\u001b[38;5;124munsafe\u001b[39m\u001b[38;5;124m\"\u001b[39m, copy\u001b[38;5;241m=\u001b[39m\u001b[38;5;28;01mFalse\u001b[39;00m)\n\u001b[0;32m    745\u001b[0m     \u001b[38;5;28;01melse\u001b[39;00m:\n\u001b[1;32m--> 746\u001b[0m         array \u001b[38;5;241m=\u001b[39m \u001b[43mnp\u001b[49m\u001b[38;5;241;43m.\u001b[39;49m\u001b[43masarray\u001b[49m\u001b[43m(\u001b[49m\u001b[43marray\u001b[49m\u001b[43m,\u001b[49m\u001b[43m \u001b[49m\u001b[43morder\u001b[49m\u001b[38;5;241;43m=\u001b[39;49m\u001b[43morder\u001b[49m\u001b[43m,\u001b[49m\u001b[43m \u001b[49m\u001b[43mdtype\u001b[49m\u001b[38;5;241;43m=\u001b[39;49m\u001b[43mdtype\u001b[49m\u001b[43m)\u001b[49m\n\u001b[0;32m    747\u001b[0m \u001b[38;5;28;01mexcept\u001b[39;00m ComplexWarning \u001b[38;5;28;01mas\u001b[39;00m complex_warning:\n\u001b[0;32m    748\u001b[0m     \u001b[38;5;28;01mraise\u001b[39;00m \u001b[38;5;167;01mValueError\u001b[39;00m(\n\u001b[0;32m    749\u001b[0m         \u001b[38;5;124m\"\u001b[39m\u001b[38;5;124mComplex data not supported\u001b[39m\u001b[38;5;130;01m\\n\u001b[39;00m\u001b[38;5;132;01m{}\u001b[39;00m\u001b[38;5;130;01m\\n\u001b[39;00m\u001b[38;5;124m\"\u001b[39m\u001b[38;5;241m.\u001b[39mformat(array)\n\u001b[0;32m    750\u001b[0m     ) \u001b[38;5;28;01mfrom\u001b[39;00m \u001b[38;5;21;01mcomplex_warning\u001b[39;00m\n",
      "File \u001b[1;32mC:\\ProgramData\\Anaconda3\\envs\\marketing_analytics\\lib\\site-packages\\pandas\\core\\generic.py:2064\u001b[0m, in \u001b[0;36mNDFrame.__array__\u001b[1;34m(self, dtype)\u001b[0m\n\u001b[0;32m   2063\u001b[0m \u001b[38;5;28;01mdef\u001b[39;00m \u001b[38;5;21m__array__\u001b[39m(\u001b[38;5;28mself\u001b[39m, dtype: npt\u001b[38;5;241m.\u001b[39mDTypeLike \u001b[38;5;241m|\u001b[39m \u001b[38;5;28;01mNone\u001b[39;00m \u001b[38;5;241m=\u001b[39m \u001b[38;5;28;01mNone\u001b[39;00m) \u001b[38;5;241m-\u001b[39m\u001b[38;5;241m>\u001b[39m np\u001b[38;5;241m.\u001b[39mndarray:\n\u001b[1;32m-> 2064\u001b[0m     \u001b[38;5;28;01mreturn\u001b[39;00m \u001b[43mnp\u001b[49m\u001b[38;5;241;43m.\u001b[39;49m\u001b[43masarray\u001b[49m\u001b[43m(\u001b[49m\u001b[38;5;28;43mself\u001b[39;49m\u001b[38;5;241;43m.\u001b[39;49m\u001b[43m_values\u001b[49m\u001b[43m,\u001b[49m\u001b[43m \u001b[49m\u001b[43mdtype\u001b[49m\u001b[38;5;241;43m=\u001b[39;49m\u001b[43mdtype\u001b[49m\u001b[43m)\u001b[49m\n",
      "\u001b[1;31mValueError\u001b[0m: could not convert string to float: 'Graduation'"
     ]
    }
   ],
   "source": [
    "param_rfc = { \n",
    "    'n_estimators': [50, 100, 200],\n",
    "    'max_features': ['auto'],\n",
    "    'max_depth' : [None,3,5,8],\n",
    "    'criterion' :['gini'],\n",
    "    'min_samples_split':[2,3,4]}\n",
    "\n",
    "rfc_cv = GridSearchCV(RandomForestClassifier(random_state=5),gi\n",
    "                            param_grid=param_rfc,\n",
    "                            cv=5, verbose=1)\n",
    "\n",
    "rfc_cv.fit(X_train, y_train)\n",
    "rfc_tune_acc = pipe_fit_score(rfc_cv.best_estimator_)\n",
    "print('Accuracy: ', rfc_tune_acc)"
   ]
  },
  {
   "cell_type": "markdown",
   "id": "efb787cc",
   "metadata": {},
   "source": [
    "# **CLUSTERING FOR SEGMENTATION**\n",
    "\n",
    "To avoid overlooking of customers' behavioral patterns, clustering will be used instead of personal intuitions during segmentation. For this case study, the criteria for segmentation is that regardless of marital status, and education level, the customers are separated based on their income level,  age, and purchase totals. Using these criteria, the results can be differential marketing strategy for customers that have, say, high income and low purchasing versus those with low income and high purchasing."
   ]
  },
  {
   "cell_type": "code",
   "execution_count": null,
   "id": "9effa4be",
   "metadata": {},
   "outputs": [],
   "source": [
    "cols = ['Income', 'Age', 'Purchase_total', 'Response']\n",
    "marketing_clust = marketing[cols]"
   ]
  },
  {
   "cell_type": "markdown",
   "id": "2d744240",
   "metadata": {},
   "source": [
    "## Training and Validation Data\n",
    "\n",
    "First the data is separated into training and testing portions to test for the accuracy of the clustering method used."
   ]
  },
  {
   "cell_type": "code",
   "execution_count": null,
   "id": "39add9fa",
   "metadata": {},
   "outputs": [],
   "source": [
    "\n",
    "X_data = marketing_clust.drop('Response', axis=1)\n",
    "y_data = marketing_clust['Response']\n",
    "\n",
    "X_train, X_test, y_train, y_test =\\\n",
    "    train_test_split(X_data, y_data, \n",
    "                     test_size=0.3, \n",
    "                     random_state=123)\n",
    "\n",
    "X_train.shape, X_test.shape"
   ]
  },
  {
   "cell_type": "markdown",
   "id": "3fdd69a1",
   "metadata": {},
   "source": [
    "## Standardization \n",
    "\n",
    "Next we standardize the training data and upon verification the mean value of practically all the columns is 0 and the standard deviation is 1. This ensures that all the columns get equal weight when calculation the similarity or distance between customers."
   ]
  },
  {
   "cell_type": "code",
   "execution_count": null,
   "id": "a8e65019",
   "metadata": {},
   "outputs": [],
   "source": [
    "from sklearn.preprocessing import StandardScaler\n",
    "from warnings import filterwarnings\n",
    "filterwarnings('ignore')\n",
    "\n",
    "scaler = StandardScaler()\n",
    "\n",
    "clust_cols = ['Income', 'Age', 'Purchase_total']\n",
    "scaled_cols = ['Income_scaled', 'Age_scaled', 'Purchase_scaled']\n",
    "X_train[scaled_cols] = scaler.fit_transform(X_train[clust_cols])"
   ]
  },
  {
   "cell_type": "markdown",
   "id": "7f474dfc",
   "metadata": {},
   "source": [
    "## Kmeans Clustering and Dimensionality Reduction\n",
    "\n",
    "To choose an appropriate number clusters, the silhouttes score is used to measure how well a clustering fit the data. In this case, the higher score (optimal number of clusters) is from two clusters."
   ]
  },
  {
   "cell_type": "code",
   "execution_count": null,
   "id": "aee4cda3",
   "metadata": {},
   "outputs": [],
   "source": [
    "from sklearn.cluster import KMeans\n",
    "\n",
    "sil_scores = []\n",
    "\n",
    "for k in range(2, 10):\n",
    "    km_model = KMeans(n_clusters=k, random_state=123)\n",
    "    cluster_assignments = km_model.fit_predict(X_train[scaled_cols])\n",
    "    sil_scores.append(silhouette_score(X_train[scaled_cols], \n",
    "                                       cluster_assignments))\n",
    "\n",
    "plt.plot(range(2, 10), sil_scores, color='#306958')\n",
    "plt.ylabel('Avg. Silhouette score')\n",
    "plt.xlabel('Number of Clusters: K');"
   ]
  },
  {
   "cell_type": "markdown",
   "id": "4b6869ed",
   "metadata": {},
   "source": [
    "## Evaluating KMeans Performance\n",
    "\n",
    "A kmean model is created setting the number of clusters to 2 and fit to the training data in order to predict the clusters. The average silhouette score for this number of clusters is 0.51."
   ]
  },
  {
   "cell_type": "code",
   "execution_count": null,
   "id": "fe5839fe",
   "metadata": {},
   "outputs": [],
   "source": [
    "km_model = KMeans(n_clusters=2, random_state=123)\n",
    "X_train['Income_Clusters'] = (km_model\n",
    "                              .fit_predict(X_train[scaled_cols]))\n",
    "\n",
    "silhouette_score(X_train[clust_cols], X_train['Income_Clusters'])"
   ]
  },
  {
   "cell_type": "markdown",
   "id": "40dab702",
   "metadata": {},
   "source": [
    "For the test data, the average silhouette score (0.53) is an improvement from that computed for the training data (0.51)."
   ]
  },
  {
   "cell_type": "code",
   "execution_count": null,
   "id": "671280a6",
   "metadata": {},
   "outputs": [],
   "source": [
    "X_test[scaled_cols] = scaler.fit_transform(X_test[clust_cols])\n",
    "X_test['Income_Clusters'] = (km_model\n",
    "                             .predict(X_test[scaled_cols]))\n",
    "\n",
    "silhouette_score(X_test[clust_cols], X_test['Income_Clusters'])"
   ]
  },
  {
   "cell_type": "markdown",
   "id": "07e09ad1",
   "metadata": {},
   "source": [
    "To understand the cause for this increase, a visualization will be created on the training and test data. But first, the data is reduced to two dimensions using PCA while preserving the distance between the points."
   ]
  },
  {
   "cell_type": "code",
   "execution_count": null,
   "id": "434d4fd7",
   "metadata": {},
   "outputs": [],
   "source": [
    "from sklearn.decomposition import PCA\n",
    "\n",
    "def pca_output(data):\n",
    "    return PCA(n_components=2).fit_transform(data[scaled_cols])\n",
    "\n",
    "pca_train = pca_output(X_train)\n",
    "pca_test = pca_output(X_test)\n",
    "\n",
    "X_train['pc1'], X_train['pc2'] = pca_train[:,0], pca_train[:,1]\n",
    "X_test['pc1'], X_test['pc2'] = pca_test[:,0], pca_test[:,1]"
   ]
  },
  {
   "cell_type": "markdown",
   "id": "de3050be",
   "metadata": {},
   "source": [
    "Before going ahead, a function is defined to plot clusters."
   ]
  },
  {
   "cell_type": "code",
   "execution_count": null,
   "id": "fd7b8032",
   "metadata": {},
   "outputs": [],
   "source": [
    "markers = ['.', 'x']\n",
    "colors = ['#ed7d00', '#61b4f6']\n",
    "alpha = [0.6, 0.6]\n",
    "\n",
    "def plot_clusters(data):\n",
    "    for clust in range(data['Income_Clusters'].nunique()):\n",
    "        \n",
    "        temp = data[data['Income_Clusters']==clust]\n",
    "        \n",
    "        plt.scatter(temp['pc1'], temp['pc2'], \n",
    "                    marker=markers[clust], \n",
    "                    label='cluster '+str(clust), \n",
    "                    color=colors[clust], \n",
    "                    alpha=alpha[clust])\n",
    "\n",
    "    plt.legend(loc='upper left')\n",
    "    plt.xlabel('PC1')\n",
    "    plt.ylabel('PC2');"
   ]
  },
  {
   "cell_type": "markdown",
   "id": "830caed9",
   "metadata": {},
   "source": [
    "The x and y axes are Principal Components and therefore not easily interpretable being that they are derived from combinations of the original features. However, by visualizing the clusters, it is evident how good the clusters are based on how much they overlap. However, there is a data point that is far from its cluster."
   ]
  },
  {
   "cell_type": "code",
   "execution_count": null,
   "id": "138837da",
   "metadata": {},
   "outputs": [],
   "source": [
    "import seaborn as sns\n",
    "\n",
    "plot_clusters(X_train)"
   ]
  },
  {
   "cell_type": "markdown",
   "id": "ad1c4808",
   "metadata": {},
   "source": [
    "The outlier is also evident in the average household income."
   ]
  },
  {
   "cell_type": "code",
   "execution_count": null,
   "id": "7d2cca1c",
   "metadata": {},
   "outputs": [],
   "source": [
    "sns.boxplot(X_train['Income'])\n",
    "plt.title('Distribution of Income\\n', size=13);"
   ]
  },
  {
   "cell_type": "markdown",
   "id": "772ecc94",
   "metadata": {},
   "source": [
    "In the test data, the improvement of the average silhouette can be attributed to the tight clusters."
   ]
  },
  {
   "cell_type": "code",
   "execution_count": null,
   "id": "6068ae99",
   "metadata": {},
   "outputs": [],
   "source": [
    "plot_clusters(X_test)"
   ]
  },
  {
   "cell_type": "markdown",
   "id": "c8b21c67",
   "metadata": {},
   "source": [
    "To understand the clusters, the average values of the original features used for clustering can be computed against the two clusters visually. From the results it is clear that the income and purchase totals varies significantly between the clusters and perhaps for age."
   ]
  },
  {
   "cell_type": "code",
   "execution_count": null,
   "id": "3d32ba9c",
   "metadata": {},
   "outputs": [],
   "source": [
    "X_test.groupby('Income_Clusters')[clust_cols].mean()"
   ]
  },
  {
   "cell_type": "markdown",
   "id": "220e26f2",
   "metadata": {},
   "source": [
    "## Interpreting Clusters\n",
    "\n",
    "As an interpretation, cluster 0 can be said to be comprised of high income customers with high purchasing habits while cluster 1 consist of customers who have low income earner and thus lower spenders. The age difference is not that large but it is evident that those in cluster 0 are somewhat older than those in cluster 1. Note that for this visualization, the standardized values are used instead of the original feature values due to scaling."
   ]
  },
  {
   "cell_type": "code",
   "execution_count": null,
   "id": "02598022",
   "metadata": {},
   "outputs": [],
   "source": [
    "(X_test\n",
    " .groupby('Income_Clusters')[scaled_cols]\n",
    " .mean()\n",
    " .plot\n",
    " .bar(color=['#442e51', '#396d58', '#447ca4'], \n",
    "      alpha=0.8))\n",
    "\n",
    "plt.axhline(0, \n",
    "            color='#aba396', \n",
    "            linestyle='--', \n",
    "            alpha=0.5)\n",
    "plt.ylabel('Scaled Values')\n",
    "plt.xlabel('Cluster')\n",
    "plt.title('Customer Segmentation based on Income, Age, Purchase\\n', \n",
    "          size=13);"
   ]
  },
  {
   "cell_type": "markdown",
   "id": "45020e16",
   "metadata": {},
   "source": [
    "With this information, it is evident that customers classified as low income earners and spenders have low conversion rate (10 percent against the overall 15 percent) while those categorized as high income earners and spenders have a high conversion rate (23 percent against the overall 15 percent)."
   ]
  },
  {
   "cell_type": "code",
   "execution_count": null,
   "id": "cb5d3b4d",
   "metadata": {},
   "outputs": [],
   "source": [
    "income_cluster = pd.concat([X_test['Income_Clusters'], \n",
    "                            y_test], \n",
    "                           axis=1)\n",
    "\n",
    "(conversion_rate('Income_Clusters', income_cluster)\n",
    " .plot.barh())\n",
    "\n",
    "plt.yticks(ticks=[0, 1], \n",
    "           labels=['Low-income & low spenders', \n",
    "                   'High-income & high spenders'])\n",
    "plt.xlabel('Conversion Rate')\n",
    "plt.ylabel('Cluster')\n",
    "plt.title('Conversion Rate based on Income, Purchase & Age\\n', \n",
    "          size=13);"
   ]
  }
 ],
 "metadata": {
  "hide_input": false,
  "kernelspec": {
   "display_name": "Python 3 (ipykernel)",
   "language": "python",
   "name": "python3"
  },
  "language_info": {
   "codemirror_mode": {
    "name": "ipython",
    "version": 3
   },
   "file_extension": ".py",
   "mimetype": "text/x-python",
   "name": "python",
   "nbconvert_exporter": "python",
   "pygments_lexer": "ipython3",
   "version": "3.9.12"
  },
  "toc": {
   "base_numbering": 1,
   "nav_menu": {},
   "number_sections": true,
   "sideBar": true,
   "skip_h1_title": false,
   "title_cell": "Table of Contents",
   "title_sidebar": "Contents",
   "toc_cell": false,
   "toc_position": {},
   "toc_section_display": true,
   "toc_window_display": true
  },
  "varInspector": {
   "cols": {
    "lenName": 16,
    "lenType": 16,
    "lenVar": 40
   },
   "kernels_config": {
    "python": {
     "delete_cmd_postfix": "",
     "delete_cmd_prefix": "del ",
     "library": "var_list.py",
     "varRefreshCmd": "print(var_dic_list())"
    },
    "r": {
     "delete_cmd_postfix": ") ",
     "delete_cmd_prefix": "rm(",
     "library": "var_list.r",
     "varRefreshCmd": "cat(var_dic_list()) "
    }
   },
   "types_to_exclude": [
    "module",
    "function",
    "builtin_function_or_method",
    "instance",
    "_Feature"
   ],
   "window_display": false
  }
 },
 "nbformat": 4,
 "nbformat_minor": 5
}
