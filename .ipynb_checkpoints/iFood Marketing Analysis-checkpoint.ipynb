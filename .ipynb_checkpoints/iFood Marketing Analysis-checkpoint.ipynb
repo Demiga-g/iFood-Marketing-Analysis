{
 "cells": [
  {
   "cell_type": "markdown",
   "id": "068668d4",
   "metadata": {},
   "source": [
    "# **ABOUT DATASET**\n",
    "\n",
    "iFood is the lead food delivery app in Brazil, present in over a thousand cities. Keeping a high customer engagement is key for growing and consolidating the company’s position as the market leader. Data Analysts working within the data team are constantly challenged to provide insights and value to the company through open scope projects. This case intends to simulate that. In this case, you are presented a sample dataset, that mocks metainformation on the customer and on iFood campaign interactions with that customer. It is your challenge to understand the data, find business opportunities & insights and to propose any data driven action to optimize the campaigns results & generate value to the company. This case aims to evaluate your Data skills and knowledge for two possible roles:\n",
    "\n",
    "1. Data Analyst Business:\n",
    "\n",
    "    - Perform robust exploratory analysis, rich with business insights & data driven proposals to add value to the company and have strong communication skills to influence the decision making.\n",
    "    \n",
    "2. Data Advanced Analytics:\n",
    "\n",
    "    - Perform robust exploratory analysis, using advanced analytics tools and statistical methods to generate data products to optimize business results (predictive & clusterization models, for example)\n",
    "    \n",
    "Key Objectives are:\n",
    "\n",
    "1. Explore the data – don’t just plot means and counts. Provide insights, define cause and effect. Provide a better understanding of the characteristic features of respondents;\n",
    "\n",
    "2. Propose and describe a customer segmentation based on customers behaviors;\n",
    "\n",
    "3. Create a predictive model which allows the company to maximize the profit of the next marketing campaign."
   ]
  },
  {
   "cell_type": "markdown",
   "id": "2460c825",
   "metadata": {},
   "source": [
    "## Importing and Inspecting Dataset\n",
    "\n",
    "There are 24 out of 2240 missing entries for the yearly household income variable and for these values to stand out during future analysis, they will be filled with -1."
   ]
  },
  {
   "cell_type": "code",
   "execution_count": 1,
   "id": "9f702883",
   "metadata": {
    "scrolled": true
   },
   "outputs": [],
   "source": [
    "import pandas as pd\n",
    "\n",
    "date_cols = ['Year_Birth', 'Dt_Customer']\n",
    "marketing = pd.read_csv('marketing_campaign.csv', \n",
    "                        delimiter=';', \n",
    "                        parse_dates=date_cols).fillna(-1)"
   ]
  },
  {
   "cell_type": "markdown",
   "id": "80af91b7",
   "metadata": {},
   "source": [
    "After calculating age of the customers, it is evident that there are three individuals aged 120 years and above. These values will be misleading in the analysis. Therefore, they'll be dropped. Additionally, the `Year_Birth` column will also be removed because it will be \"less\" useful."
   ]
  },
  {
   "cell_type": "code",
   "execution_count": 2,
   "id": "e5e43f3f",
   "metadata": {},
   "outputs": [],
   "source": [
    "from datetime import date\n",
    "\n",
    "age_func = lambda x: date.today().year - x.year\n",
    "marketing['Age'] = marketing['Year_Birth'].apply(age_func)\n",
    "\n",
    "marketing = marketing[~marketing['ID'].isin([11004, 1150, 7829])]\n",
    "marketing = marketing.drop('Year_Birth', axis=1)"
   ]
  },
  {
   "cell_type": "markdown",
   "id": "c578a391",
   "metadata": {},
   "source": [
    "Also `Years_Subscribed` is created to store the number of years a customers has subscribed to the app. The `Dt_Customer` column is thereafter removed."
   ]
  },
  {
   "cell_type": "code",
   "execution_count": 3,
   "id": "28d64662",
   "metadata": {},
   "outputs": [],
   "source": [
    "marketing['Years_Subscribed'] = marketing['Dt_Customer'].apply(age_func)\n",
    "marketing = marketing.drop('Dt_Customer', axis=1)"
   ]
  },
  {
   "cell_type": "markdown",
   "id": "d79368eb",
   "metadata": {},
   "source": [
    "Another column, `Dependants` is created which is the sum of `Kidhome` and `Teenhome`. These two columns are then removed from the table."
   ]
  },
  {
   "cell_type": "code",
   "execution_count": 4,
   "id": "3313b375",
   "metadata": {
    "scrolled": true
   },
   "outputs": [],
   "source": [
    "import numpy as np\n",
    "\n",
    "dependants_cols = ['Kidhome', 'Teenhome']\n",
    "marketing['Dependants'] = marketing[dependants_cols].apply(np.sum, axis=1)\n",
    "marketing = marketing.drop(dependants_cols, axis=1)"
   ]
  },
  {
   "cell_type": "markdown",
   "id": "3bbe4442",
   "metadata": {},
   "source": [
    "Another column created is `purchase_total` which sums up the amount spent to purchase different products from the app."
   ]
  },
  {
   "cell_type": "code",
   "execution_count": 5,
   "id": "0abdb977",
   "metadata": {},
   "outputs": [],
   "source": [
    "purch_cols = list(marketing.filter(regex='Mnt').columns)\n",
    "marketing['Purchase_total'] = (marketing[purch_cols]\n",
    "                               .apply(np.sum,axis=1))"
   ]
  },
  {
   "cell_type": "markdown",
   "id": "0e7b385b",
   "metadata": {},
   "source": [
    "Another column created is the `Number_Purchases` which is the sum of all purchases made through discount, or using catalog, or directly in the store, or through the website. This step will come handy when creating a model."
   ]
  },
  {
   "cell_type": "code",
   "execution_count": 6,
   "id": "dc5cb220",
   "metadata": {},
   "outputs": [],
   "source": [
    "numPurch_cols = list(marketing.filter(regex='Purchases').columns)\n",
    "marketing['Number_Purchases'] = (marketing[numPurch_cols]\n",
    "                                 .apply(np.sum, axis=1))"
   ]
  },
  {
   "cell_type": "markdown",
   "id": "6a212c34",
   "metadata": {},
   "source": [
    "# **EXPLORATORY ANALYSIS**\n",
    "\n",
    "In this section, the dataset is explored using the categories provided for each categorical variable in the dataset. "
   ]
  },
  {
   "cell_type": "markdown",
   "id": "6b0a96d6",
   "metadata": {},
   "source": [
    "## Complains and Success Rates\n",
    "\n",
    "In the last two years, there have been 20 complains with only three clients accepting the offer in the last campaign. This translates to a 15% acceptance rate based on complains. Something ought to be done to address these complains."
   ]
  },
  {
   "cell_type": "code",
   "execution_count": 7,
   "id": "a9692352",
   "metadata": {},
   "outputs": [
    {
     "data": {
      "text/plain": [
       "15.0"
      ]
     },
     "execution_count": 7,
     "metadata": {},
     "output_type": "execute_result"
    }
   ],
   "source": [
    "complaints = (marketing[marketing['Complain'] == 1]\n",
    "              [['Complain', 'Response']])\n",
    "\n",
    "(complaints['Response'].sum() / len(complaints))*100"
   ]
  },
  {
   "cell_type": "markdown",
   "id": "1a7d5cec",
   "metadata": {},
   "source": [
    "## Education Level and Success Rate\n",
    "\n",
    "Customers with PhD had an exceptional success rate (21% against the overall 15%) while those with basic education had the poorest conversion rate (4% against the overall 15%)."
   ]
  },
  {
   "cell_type": "code",
   "execution_count": 8,
   "id": "c7a5d220",
   "metadata": {},
   "outputs": [
    {
     "data": {
      "image/png": "[encoded data removed]",
      "text/plain": [
       "<Figure size 432x288 with 1 Axes>"
      ]
     },
     "metadata": {
      "needs_background": "light"
     },
     "output_type": "display_data"
    }
   ],
   "source": [
    "import matplotlib.pyplot as plt\n",
    "\n",
    "def conversion_rate(variable, df):\n",
    "    \"\"\"Function to calculate the conversion rate\"\"\"\n",
    "    conv_users = df.groupby(variable)['Response'].sum()\n",
    "    total_users = df[variable].value_counts()\n",
    "    conversion_rate = round((conv_users/total_users)*100,0)\n",
    "    return conversion_rate\n",
    "\n",
    "edu_conv_rate = conversion_rate('Education', \n",
    "                                df=marketing).sort_values()\n",
    "\n",
    "plt.bar(edu_conv_rate.index, \n",
    "        edu_conv_rate, \n",
    "        color='#2f6aa8', \n",
    "        alpha=0.5)\n",
    "\n",
    "\n",
    "plt.xlabel('Level of Education', size=12)\n",
    "plt.ylabel('Conversion Rate (%)', color='#2f6aa8', size=12)\n",
    "plt.title('Conversion Rate Based on Education Level\\n', size=13);"
   ]
  },
  {
   "cell_type": "markdown",
   "id": "21897cc7",
   "metadata": {},
   "source": [
    "One of the reason that could be the first suspect to cause these values of conversion rate is the number of customers in these categories. However, a closer look reveals that despite those with basic education consisting of only 54 participants, there conversion rate is still lower as compared to those with the graduation status, the majority (1127 participants). "
   ]
  },
  {
   "cell_type": "code",
   "execution_count": 9,
   "id": "3071c016",
   "metadata": {},
   "outputs": [
    {
     "data": {
      "image/png": "[encoded data removed]",
      "text/plain": [
       "<Figure size 432x288 with 1 Axes>"
      ]
     },
     "metadata": {
      "needs_background": "light"
     },
     "output_type": "display_data"
    }
   ],
   "source": [
    "(marketing['Education'].value_counts(ascending=True)\n",
    "                       .plot(kind='barh', \n",
    "                             color='#2f6aa8', \n",
    "                             alpha=0.6))\n",
    "\n",
    "plt.xlabel('Level of Education', size=12)\n",
    "plt.ylabel('Number of Customers', size=12)\n",
    "plt.title('Number of Customers based on Level of Education\\n', \n",
    "          size=13);"
   ]
  },
  {
   "cell_type": "markdown",
   "id": "d7cf3173",
   "metadata": {},
   "source": [
    "This prompts at looking at the average household income based on these education groups. Upon examination, it is clear that customers with basic education have the lowest average household income of about 20000 dollars. This value is approximately half times lower than those who are enrolled for a second education cycle (about 47000 dollars)."
   ]
  },
  {
   "cell_type": "code",
   "execution_count": 10,
   "id": "499e1c73",
   "metadata": {},
   "outputs": [
    {
     "data": {
      "image/png": "[encoded data removed]",
      "text/plain": [
       "<Figure size 432x288 with 2 Axes>"
      ]
     },
     "metadata": {
      "needs_background": "light"
     },
     "output_type": "display_data"
    }
   ],
   "source": [
    "income_education = (marketing.groupby('Education')\n",
    "                    ['Income'].mean())\n",
    "\n",
    "education_income = (pd.concat([income_education, \n",
    "                               edu_conv_rate], \n",
    "                              axis=1).sort_values(0))\n",
    "\n",
    "fig, ax = plt.subplots()\n",
    "ax2 = ax.twinx()\n",
    "\n",
    "ax.bar(education_income.index, \n",
    "       education_income[0], \n",
    "       color='#2f6aa8', \n",
    "       alpha=0.5, label='Conversion Rate')\n",
    "\n",
    "ax2.plot(education_income.index, \n",
    "         education_income['Income'], '--D',\n",
    "         color = '#be4e00', \n",
    "         alpha=0.8, label='Income')\n",
    "\n",
    "ax.legend(loc='upper center')\n",
    "ax2.legend()\n",
    "ax.set_xlabel('Level of Education', size=12)\n",
    "ax.set_ylabel('Conversion Rate (%)', color='#2f6aa8', \n",
    "              size=12)\n",
    "ax2.set_ylabel('Average Yearly Household Income', \n",
    "               color='#be4e00', \n",
    "               size=12)\n",
    "ax.set_title('Conversion Rate Based on Education Level and Income\\n', \n",
    "             size=13);"
   ]
  },
  {
   "cell_type": "markdown",
   "id": "52d46c5b",
   "metadata": {},
   "source": [
    "## Marital Status and Success Rates\n",
    "\n",
    "Interesting to see that customers who are either married or together having the lowest conversion rate (11 and 10 respectively against the overall 15%). Customers with the absurd and YOLO status have an outstanding conversion rate (eacth at 50% against the overall 15%)."
   ]
  },
  {
   "cell_type": "code",
   "execution_count": 11,
   "id": "7f191b9c",
   "metadata": {},
   "outputs": [
    {
     "data": {
      "image/png": "[encoded data removed]",
      "text/plain": [
       "<Figure size 432x288 with 1 Axes>"
      ]
     },
     "metadata": {
      "needs_background": "light"
     },
     "output_type": "display_data"
    }
   ],
   "source": [
    "marital_conv_rate = conversion_rate('Marital_Status', marketing)\n",
    "\n",
    "(marital_conv_rate\n",
    " .sort_values()\n",
    " .plot(kind='barh', \n",
    "       color='#8c9d4f', \n",
    "       alpha=0.6))\n",
    "\n",
    "plt.ylabel('Marital Status', size=12)\n",
    "plt.xlabel('Success Rate (%)', size=12)\n",
    "plt.title('Success Rate among Marital Status\\n', size=13);"
   ]
  },
  {
   "cell_type": "markdown",
   "id": "e5fa9b53",
   "metadata": {},
   "source": [
    "Upon checking, the YOLO and absurd marital status each have two participants which translates to one participant in each class successfully accepting the offer and the other one declining. The same applies to customers who identify as lone who are only three. Hey, marketing department, no celebration here! It is also evident that those who are married or together constitute the majority of the customers (864 and 588 customers respectively) meaning that the marketing department should look for ways to increase the conservation rate among these groups. Regarding the customers in the married or together group, the reason for their low success rate could be because of the number of dependants. Looking at the number of the number of dependants, these two groups holds the majority. This may imply that their resources are channeled to other needs.\n",
    "\n",
    "![](marriage_stats.png)"
   ]
  },
  {
   "cell_type": "markdown",
   "id": "2c0eb17e",
   "metadata": {},
   "source": [
    "## Purchases based on Marital Status\n",
    "\n",
    "Wine products leads in sales across the marital status group followed by meat products. The other products vary in sales across this groups. It is also evident that customers in the married, together, single, divorced, and widow groups are the top spenders while those in the absurd, alone and YOLO groups being the low spenders."
   ]
  },
  {
   "cell_type": "code",
   "execution_count": 12,
   "id": "fae9466b",
   "metadata": {},
   "outputs": [
    {
     "data": {
      "image/png": "[encoded data removed]",
      "text/plain": [
       "<Figure size 576x360 with 1 Axes>"
      ]
     },
     "metadata": {
      "needs_background": "light"
     },
     "output_type": "display_data"
    }
   ],
   "source": [
    "fig, ax = plt.subplots(figsize=(8,5))\n",
    "\n",
    "(marketing\n",
    " .groupby('Marital_Status')[purch_cols]\n",
    " .sum()\n",
    " .plot(kind='bar', ax=ax))\n",
    "\n",
    "plt.ylabel('Amount Spent')\n",
    "plt.title('Amount Spent on Different Products based on Marital Status\\n', \n",
    "          size=13);"
   ]
  },
  {
   "cell_type": "markdown",
   "id": "0f2d0a6d",
   "metadata": {},
   "source": [
    "## Age Group and Success Rate\n",
    "\n",
    "The ages are classified into five categories: `25-34`, `35-44`, `45-54`, `55-64`, and `65+` And from the results it is clear that majority of the clients are aged between 45 to 54 while the least represented age group is between 25 and 34."
   ]
  },
  {
   "cell_type": "code",
   "execution_count": 13,
   "id": "856163cc",
   "metadata": {},
   "outputs": [
    {
     "data": {
      "text/plain": [
       "45-54    732\n",
       "55-64    488\n",
       "65+      463\n",
       "35-44    434\n",
       "25-34    120\n",
       "Name: Age_group, dtype: int64"
      ]
     },
     "execution_count": 13,
     "metadata": {},
     "output_type": "execute_result"
    }
   ],
   "source": [
    "bins= [25,35,45,55,65, np.inf]\n",
    "labels = ['25-34','35-44','45-54','55-64','65+']\n",
    "\n",
    "marketing['Age_group'] = pd.cut(marketing['Age'], \n",
    "                                bins=bins, \n",
    "                                labels=labels, \n",
    "                                right=False)\n",
    "\n",
    "marketing['Age_group'].value_counts()"
   ]
  },
  {
   "cell_type": "markdown",
   "id": "a0306274",
   "metadata": {},
   "source": [
    "Regarding success rate, segmenting the customers by age shows that there is no huge difference with the lowest success rate (12 per cent against the overall 15%) recorded for customers aged 55-64 while the highest (17 per cent against the overall 15%)."
   ]
  },
  {
   "cell_type": "code",
   "execution_count": 14,
   "id": "46ab3b06",
   "metadata": {},
   "outputs": [
    {
     "data": {
      "image/png": "[encoded data removed]",
      "text/plain": [
       "<Figure size 432x288 with 1 Axes>"
      ]
     },
     "metadata": {
      "needs_background": "light"
     },
     "output_type": "display_data"
    }
   ],
   "source": [
    "(conversion_rate('Age_group', marketing)\n",
    " .sort_values()\n",
    " .plot(kind='barh', color='#678785'))\n",
    "plt.ylabel('Age Group')\n",
    "plt.xlabel('Conversion Rate');"
   ]
  },
  {
   "cell_type": "markdown",
   "id": "ae9f6cb8",
   "metadata": {},
   "source": [
    "## Subscription Duration and Success Rate\n",
    "\n",
    "Despite being the minority, customers with ten years subscriptions have the highest conversion rate (27% against  the overall 15%) while those with eight years have the lowest conversion rate (9%)"
   ]
  },
  {
   "cell_type": "code",
   "execution_count": 15,
   "id": "fa3fb7d7",
   "metadata": {},
   "outputs": [
    {
     "data": {
      "text/html": [
       "<div>\n",
       "<style scoped>\n",
       "    .dataframe tbody tr th:only-of-type {\n",
       "        vertical-align: middle;\n",
       "    }\n",
       "\n",
       "    .dataframe tbody tr th {\n",
       "        vertical-align: top;\n",
       "    }\n",
       "\n",
       "    .dataframe thead th {\n",
       "        text-align: right;\n",
       "    }\n",
       "</style>\n",
       "<table border=\"1\" class=\"dataframe\">\n",
       "  <thead>\n",
       "    <tr style=\"text-align: right;\">\n",
       "      <th></th>\n",
       "      <th>Years Subscribed</th>\n",
       "      <th>ConversionRate</th>\n",
       "      <th>Frequency</th>\n",
       "    </tr>\n",
       "  </thead>\n",
       "  <tbody>\n",
       "    <tr>\n",
       "      <th>2</th>\n",
       "      <td>10</td>\n",
       "      <td>27.0</td>\n",
       "      <td>494</td>\n",
       "    </tr>\n",
       "    <tr>\n",
       "      <th>1</th>\n",
       "      <td>9</td>\n",
       "      <td>13.0</td>\n",
       "      <td>1187</td>\n",
       "    </tr>\n",
       "    <tr>\n",
       "      <th>0</th>\n",
       "      <td>8</td>\n",
       "      <td>9.0</td>\n",
       "      <td>556</td>\n",
       "    </tr>\n",
       "  </tbody>\n",
       "</table>\n",
       "</div>"
      ],
      "text/plain": [
       "   Years Subscribed  ConversionRate  Frequency\n",
       "2                10            27.0        494\n",
       "1                 9            13.0       1187\n",
       "0                 8             9.0        556"
      ]
     },
     "execution_count": 15,
     "metadata": {},
     "output_type": "execute_result"
    }
   ],
   "source": [
    "year_conv = conversion_rate('Years_Subscribed', marketing)\n",
    "year_count = marketing['Years_Subscribed'].value_counts()\n",
    "\n",
    "(pd.concat([year_conv, year_count], axis=1)\n",
    " .reset_index()\n",
    " .rename(columns={'index': 'Years Subscribed',\n",
    "                  0: 'ConversionRate', \n",
    "                  'Years_Subscribed': 'Frequency'})\n",
    " .sort_values('ConversionRate', ascending=False))"
   ]
  },
  {
   "cell_type": "markdown",
   "id": "54b98b00",
   "metadata": {},
   "source": [
    "# **CLUSTERING FOR SEGMENTATION**\n",
    "\n",
    "To avoid overlooking of customers' behavioral patterns, clustering will be used instead of personal intuitions during segmentation. For this case study, the criteria for segmentation is that regardless of marital status, and education level, the customers are separated based on their income level,  age, and purchase totals. Using these criteria, the results can be differential marketing strategy for customers that have, say, high income and low purchasing versus those with low income and high purchasing."
   ]
  },
  {
   "cell_type": "code",
   "execution_count": 16,
   "id": "91340c04",
   "metadata": {},
   "outputs": [],
   "source": [
    "cols = ['Income', 'Age', 'Purchase_total', 'Response']\n",
    "marketing_clust = marketing[cols]"
   ]
  },
  {
   "cell_type": "markdown",
   "id": "993f2604",
   "metadata": {},
   "source": [
    "## Training and Validation Data\n",
    "\n",
    "First the data is separated into training and testing portions to test for the accuracy of the clustering method used."
   ]
  },
  {
   "cell_type": "code",
   "execution_count": 17,
   "id": "a17c2582",
   "metadata": {},
   "outputs": [
    {
     "data": {
      "text/plain": [
       "((1565, 3), (672, 3))"
      ]
     },
     "execution_count": 17,
     "metadata": {},
     "output_type": "execute_result"
    }
   ],
   "source": [
    "from sklearn.model_selection import train_test_split\n",
    "\n",
    "X_data = marketing_clust.drop('Response', axis=1)\n",
    "y_data = marketing_clust['Response']\n",
    "\n",
    "X_train, X_test, y_train, y_test =\\\n",
    "    train_test_split(X_data, y_data, \n",
    "                     test_size=0.3, \n",
    "                     random_state=123)\n",
    "\n",
    "X_train.shape, X_test.shape"
   ]
  },
  {
   "cell_type": "markdown",
   "id": "664aa62c",
   "metadata": {},
   "source": [
    "## Standardization \n",
    "\n",
    "Next we standardize the training data and upon verification the mean value of practically all the columns is 0 and the standard deviation is 1. This ensures that all the columns get equal weight when calculation the similarity or distance between customers."
   ]
  },
  {
   "cell_type": "code",
   "execution_count": 18,
   "id": "00507689",
   "metadata": {},
   "outputs": [],
   "source": [
    "from sklearn.preprocessing import StandardScaler\n",
    "from warnings import filterwarnings\n",
    "filterwarnings('ignore')\n",
    "\n",
    "scaler = StandardScaler()\n",
    "\n",
    "clust_cols = ['Income', 'Age', 'Purchase_total']\n",
    "scaled_cols = ['Income_scaled', 'Age_scaled', 'Purchase_scaled']\n",
    "X_train[scaled_cols] = scaler.fit_transform(X_train[clust_cols])"
   ]
  },
  {
   "cell_type": "markdown",
   "id": "c86657fd",
   "metadata": {},
   "source": [
    "## Kmeans Clustering and Dimensionality Reduction\n",
    "\n",
    "To choose an appropriate number clusters, the silhouttes score is used to measure how well a clustering fit the data. In this case, the higher score (optimal number of clusters) is from two clusters."
   ]
  },
  {
   "cell_type": "code",
   "execution_count": 19,
   "id": "bbdb58ad",
   "metadata": {},
   "outputs": [
    {
     "data": {
      "image/png": "[encoded data removed]",
      "text/plain": [
       "<Figure size 432x288 with 1 Axes>"
      ]
     },
     "metadata": {
      "needs_background": "light"
     },
     "output_type": "display_data"
    }
   ],
   "source": [
    "from sklearn.cluster import KMeans\n",
    "from sklearn.metrics import silhouette_score\n",
    "\n",
    "sil_scores = []\n",
    "\n",
    "for k in range(2, 10):\n",
    "    km_model = KMeans(n_clusters=k, random_state=123)\n",
    "    cluster_assignments = km_model.fit_predict(X_train[scaled_cols])\n",
    "    sil_scores.append(silhouette_score(X_train[scaled_cols], \n",
    "                                       cluster_assignments))\n",
    "\n",
    "plt.plot(range(2, 10), sil_scores, color='#306958')\n",
    "plt.ylabel('Avg. Silhouette score')\n",
    "plt.xlabel('Number of Clusters: K');"
   ]
  },
  {
   "cell_type": "markdown",
   "id": "b03fe198",
   "metadata": {},
   "source": [
    "## Evaluating KMeans Performance\n",
    "\n",
    "A kmean model is created setting the number of clusters to 2 and fit to the training data in order to predict the clusters. The average silhouette score for this number of clusters is 0.51."
   ]
  },
  {
   "cell_type": "code",
   "execution_count": 20,
   "id": "8f8024f9",
   "metadata": {
    "scrolled": true
   },
   "outputs": [
    {
     "data": {
      "text/plain": [
       "0.5148667283130242"
      ]
     },
     "execution_count": 20,
     "metadata": {},
     "output_type": "execute_result"
    }
   ],
   "source": [
    "km_model = KMeans(n_clusters=2, random_state=123)\n",
    "X_train['Income_Clusters'] = (km_model\n",
    "                              .fit_predict(X_train[scaled_cols]))\n",
    "\n",
    "silhouette_score(X_train[clust_cols], X_train['Income_Clusters'])"
   ]
  },
  {
   "cell_type": "markdown",
   "id": "2d35e630",
   "metadata": {},
   "source": [
    "For the test data, the average silhouette score (0.53) is an improvement from that computed for the training data (0.51)."
   ]
  },
  {
   "cell_type": "code",
   "execution_count": 21,
   "id": "d7258cb8",
   "metadata": {},
   "outputs": [
    {
     "data": {
      "text/plain": [
       "0.5255843464077297"
      ]
     },
     "execution_count": 21,
     "metadata": {},
     "output_type": "execute_result"
    }
   ],
   "source": [
    "X_test[scaled_cols] = scaler.fit_transform(X_test[clust_cols])\n",
    "X_test['Income_Clusters'] = (km_model\n",
    "                             .predict(X_test[scaled_cols]))\n",
    "\n",
    "silhouette_score(X_test[clust_cols], X_test['Income_Clusters'])"
   ]
  },
  {
   "cell_type": "markdown",
   "id": "fcf5e93b",
   "metadata": {},
   "source": [
    "To understand the cause for this increase, a visualization will be created on the training and test data. But first, the data is reduced to two dimensions using PCA while preserving the distance between the points."
   ]
  },
  {
   "cell_type": "code",
   "execution_count": 22,
   "id": "5f3a7ab4",
   "metadata": {},
   "outputs": [],
   "source": [
    "from sklearn.decomposition import PCA\n",
    "\n",
    "def pca_output(data):\n",
    "    return PCA(n_components=2).fit_transform(data[scaled_cols])\n",
    "\n",
    "pca_train = pca_output(X_train)\n",
    "pca_test = pca_output(X_test)\n",
    "\n",
    "X_train['pc1'], X_train['pc2'] = pca_train[:,0], pca_train[:,1]\n",
    "X_test['pc1'], X_test['pc2'] = pca_test[:,0], pca_test[:,1]"
   ]
  },
  {
   "cell_type": "markdown",
   "id": "3476620c",
   "metadata": {},
   "source": [
    "Before going ahead, a function is defined to plot clusters."
   ]
  },
  {
   "cell_type": "code",
   "execution_count": 23,
   "id": "09028805",
   "metadata": {},
   "outputs": [],
   "source": [
    "markers = ['.', 'x']\n",
    "colors = ['#ed7d00', '#61b4f6']\n",
    "alpha = [0.6, 0.6]\n",
    "\n",
    "def plot_clusters(data):\n",
    "    for clust in range(data['Income_Clusters'].nunique()):\n",
    "        \n",
    "        temp = data[data['Income_Clusters']==clust]\n",
    "        \n",
    "        plt.scatter(temp['pc1'], temp['pc2'], \n",
    "                    marker=markers[clust], \n",
    "                    label='cluster '+str(clust), \n",
    "                    color=colors[clust], \n",
    "                    alpha=alpha[clust])\n",
    "\n",
    "    plt.legend(loc='upper left')\n",
    "    plt.xlabel('PC1')\n",
    "    plt.ylabel('PC2');"
   ]
  },
  {
   "cell_type": "markdown",
   "id": "39dc261d",
   "metadata": {},
   "source": [
    "The x and y axes are Principal Components and therefore not easily interpretable being that they are derived from combinations of the original features. However, by visualizing the clusters, it is evident how good the clusters are based on how much they overlap. However, there is a data point that is far from its cluster."
   ]
  },
  {
   "cell_type": "code",
   "execution_count": 24,
   "id": "46749f36",
   "metadata": {},
   "outputs": [
    {
     "data": {
      "image/png": "[encoded data removed]",
      "text/plain": [
       "<Figure size 432x288 with 1 Axes>"
      ]
     },
     "metadata": {
      "needs_background": "light"
     },
     "output_type": "display_data"
    }
   ],
   "source": [
    "import seaborn as sns\n",
    "\n",
    "plot_clusters(X_train)"
   ]
  },
  {
   "cell_type": "markdown",
   "id": "334406c8",
   "metadata": {},
   "source": [
    "The outlier is also evident in the average household income."
   ]
  },
  {
   "cell_type": "code",
   "execution_count": 25,
   "id": "4694e7af",
   "metadata": {},
   "outputs": [
    {
     "data": {
      "image/png": "[encoded data removed]",
      "text/plain": [
       "<Figure size 432x288 with 1 Axes>"
      ]
     },
     "metadata": {
      "needs_background": "light"
     },
     "output_type": "display_data"
    }
   ],
   "source": [
    "sns.boxplot(X_train['Income'])\n",
    "plt.title('Distribution of Income\\n', size=13);"
   ]
  },
  {
   "cell_type": "markdown",
   "id": "10c80cda",
   "metadata": {},
   "source": [
    "In the test data, the improvement of the average silhouette can be attributed to the tight clusters."
   ]
  },
  {
   "cell_type": "code",
   "execution_count": 26,
   "id": "ff15f24f",
   "metadata": {},
   "outputs": [
    {
     "data": {
      "image/png": "[encoded data removed]",
      "text/plain": [
       "<Figure size 432x288 with 1 Axes>"
      ]
     },
     "metadata": {
      "needs_background": "light"
     },
     "output_type": "display_data"
    }
   ],
   "source": [
    "plot_clusters(X_test)"
   ]
  },
  {
   "cell_type": "markdown",
   "id": "4853e2f3",
   "metadata": {},
   "source": [
    "To understand the clusters, the average values of the original features used for clustering can be computed against the two clusters visually. From the results it is clear that the income and purchase totals varies significantly between the clusters and perhaps for age."
   ]
  },
  {
   "cell_type": "code",
   "execution_count": 27,
   "id": "4e573d44",
   "metadata": {},
   "outputs": [
    {
     "data": {
      "text/html": [
       "<div>\n",
       "<style scoped>\n",
       "    .dataframe tbody tr th:only-of-type {\n",
       "        vertical-align: middle;\n",
       "    }\n",
       "\n",
       "    .dataframe tbody tr th {\n",
       "        vertical-align: top;\n",
       "    }\n",
       "\n",
       "    .dataframe thead th {\n",
       "        text-align: right;\n",
       "    }\n",
       "</style>\n",
       "<table border=\"1\" class=\"dataframe\">\n",
       "  <thead>\n",
       "    <tr style=\"text-align: right;\">\n",
       "      <th></th>\n",
       "      <th>Income</th>\n",
       "      <th>Age</th>\n",
       "      <th>Purchase_total</th>\n",
       "    </tr>\n",
       "    <tr>\n",
       "      <th>Income_Clusters</th>\n",
       "      <th></th>\n",
       "      <th></th>\n",
       "      <th></th>\n",
       "    </tr>\n",
       "  </thead>\n",
       "  <tbody>\n",
       "    <tr>\n",
       "      <th>0</th>\n",
       "      <td>37079.817481</td>\n",
       "      <td>51.431877</td>\n",
       "      <td>179.776350</td>\n",
       "    </tr>\n",
       "    <tr>\n",
       "      <th>1</th>\n",
       "      <td>72164.367491</td>\n",
       "      <td>56.081272</td>\n",
       "      <td>1225.250883</td>\n",
       "    </tr>\n",
       "  </tbody>\n",
       "</table>\n",
       "</div>"
      ],
      "text/plain": [
       "                       Income        Age  Purchase_total\n",
       "Income_Clusters                                         \n",
       "0                37079.817481  51.431877      179.776350\n",
       "1                72164.367491  56.081272     1225.250883"
      ]
     },
     "execution_count": 27,
     "metadata": {},
     "output_type": "execute_result"
    }
   ],
   "source": [
    "X_test.groupby('Income_Clusters')[clust_cols].mean()"
   ]
  },
  {
   "cell_type": "markdown",
   "id": "b307420e",
   "metadata": {},
   "source": [
    "## Interpreting Clusters\n",
    "\n",
    "As an interpretation, cluster 0 can be said to be comprised of high income customers with high purchasing habits while cluster 1 consist of customers who have low income earner and thus lower spenders. The age difference is not that large but it is evident that those in cluster 0 are somewhat older than those in cluster 1. Note that for this visualization, the standardized values are used instead of the original feature values due to scaling."
   ]
  },
  {
   "cell_type": "code",
   "execution_count": 28,
   "id": "20eee40e",
   "metadata": {},
   "outputs": [
    {
     "data": {
      "image/png": "[encoded data removed]",
      "text/plain": [
       "<Figure size 432x288 with 1 Axes>"
      ]
     },
     "metadata": {
      "needs_background": "light"
     },
     "output_type": "display_data"
    }
   ],
   "source": [
    "(X_test\n",
    " .groupby('Income_Clusters')[scaled_cols]\n",
    " .mean()\n",
    " .plot\n",
    " .bar(color=['#442e51', '#396d58', '#447ca4'], \n",
    "      alpha=0.8))\n",
    "\n",
    "plt.axhline(0, \n",
    "            color='#aba396', \n",
    "            linestyle='--', \n",
    "            alpha=0.5)\n",
    "plt.ylabel('Scaled Values')\n",
    "plt.xlabel('Cluster')\n",
    "plt.title('Customer Segmentation based on Income, Age, Purchase\\n', \n",
    "          size=13);"
   ]
  },
  {
   "cell_type": "markdown",
   "id": "37c5f5fb",
   "metadata": {},
   "source": [
    "With this information, it is evident that customers classified as low income earners and spenders have low conversion rate (10 percent against the overall 15 percent) while those categorized as high income earners and spenders have a high conversion rate (23 percent against the overall 15 percent)."
   ]
  },
  {
   "cell_type": "code",
   "execution_count": 29,
   "id": "632ffa0d",
   "metadata": {},
   "outputs": [
    {
     "data": {
      "image/png": "[encoded data removed]",
      "text/plain": [
       "<Figure size 432x288 with 1 Axes>"
      ]
     },
     "metadata": {
      "needs_background": "light"
     },
     "output_type": "display_data"
    }
   ],
   "source": [
    "income_cluster = pd.concat([X_test['Income_Clusters'], \n",
    "                            y_test], \n",
    "                           axis=1)\n",
    "\n",
    "(conversion_rate('Income_Clusters', income_cluster)\n",
    " .plot.barh())\n",
    "\n",
    "plt.yticks(ticks=[0, 1], \n",
    "           labels=['Low-income & low spenders', \n",
    "                   'High-income & high spenders'])\n",
    "plt.xlabel('Conversion Rate')\n",
    "plt.ylabel('Cluster')\n",
    "plt.title('Conversion Rate based on Income, Purchase & Age\\n', \n",
    "          size=13);"
   ]
  },
  {
   "cell_type": "markdown",
   "id": "8bc2ae5b",
   "metadata": {},
   "source": [
    "# **CREATING A PREDICTIVE MODEL**\n",
    "\n",
    "The aim of this section is to create a predictive model which will allow the company to maximize the profit of the next marketing campaign."
   ]
  },
  {
   "cell_type": "markdown",
   "id": "c5783c90",
   "metadata": {},
   "source": [
    "## Selecting Necessary Variables\n",
    "\n",
    "First, the selection of variables to proceed with is important.\n",
    "\n",
    "1. All the variables that were created for the purpose of customer segmentation analysis will be dropped.\n",
    " \n",
    "2. Variables like `Z_CostContact` and `Z_revenue` have constant values across each entry thus they are also removed. "
   ]
  },
  {
   "cell_type": "code",
   "execution_count": 30,
   "id": "068b48bc",
   "metadata": {},
   "outputs": [],
   "source": [
    "col_remove = ['ID', 'Z_CostContact', 'Z_Revenue', 'Age_group', \n",
    "              'Number_Purchases', 'Purchase_total', 'Dependants']\n",
    "marketing = marketing.drop(col_remove, axis=1)"
   ]
  },
  {
   "cell_type": "markdown",
   "id": "4e8d4de0",
   "metadata": {},
   "source": [
    "## One Hot Encoding \n",
    "\n",
    "The categorical columns are also converted to numerical data types to allow for the use of the algorithms that will be used when creating a predictive model."
   ]
  },
  {
   "cell_type": "code",
   "execution_count": 31,
   "id": "16642e97",
   "metadata": {},
   "outputs": [],
   "source": [
    "categ_cols = ['Education', 'Marital_Status']\n",
    "marketing = pd.get_dummies(marketing)"
   ]
  },
  {
   "cell_type": "markdown",
   "id": "7206b051",
   "metadata": {},
   "source": [
    "Next, the data is split into training and validation sets"
   ]
  },
  {
   "cell_type": "code",
   "execution_count": 32,
   "id": "a70c4c8f",
   "metadata": {},
   "outputs": [],
   "source": [
    "X_data = marketing.drop('Response', axis=1)\n",
    "y_data = marketing['Response']\n",
    "\n",
    "X_train, X_val, y_train, y_val =\\\n",
    "    train_test_split(X_data, y_data, random_state=123, test_size=0.30)"
   ]
  },
  {
   "cell_type": "markdown",
   "id": "4d0d63cc",
   "metadata": {},
   "source": [
    "Before proceeding, a function is created that contains a pipeline to scale the data and fit a classifier. The function then outputs the accuracy scores."
   ]
  },
  {
   "cell_type": "code",
   "execution_count": 33,
   "id": "06da72eb",
   "metadata": {},
   "outputs": [],
   "source": [
    "from sklearn.pipeline import Pipeline\n",
    "from sklearn.metrics import (roc_auc_score, \n",
    "                             confusion_matrix,\n",
    "                             classification_report)\n",
    "    \n",
    "def pipe_fit_score(classifier):\n",
    "    venue_pipe = Pipeline([('scaler', StandardScaler()), \n",
    "                           ('clf', classifier)])\n",
    "    \n",
    "    y_pred = venue_pipe.fit(X_train, y_train).predict(X_val)\n",
    "    \n",
    "    print(pd.DataFrame(confusion_matrix(y_val, y_pred), \n",
    "                        columns=['Positive', 'Negative'], \n",
    "                        index=['Positive', 'Negative']))\n",
    "    print()\n",
    "    print(classification_report(y_val, y_pred))\n",
    "    print()\n",
    "    return roc_auc_score(y_val, y_pred)"
   ]
  },
  {
   "cell_type": "markdown",
   "id": "e459321a",
   "metadata": {},
   "source": [
    "### Logistic Regression"
   ]
  },
  {
   "cell_type": "code",
   "execution_count": 34,
   "id": "ea0b8b67",
   "metadata": {},
   "outputs": [
    {
     "name": "stdout",
     "output_type": "stream",
     "text": [
      "          Positive  Negative\n",
      "Positive       555        12\n",
      "Negative        55        50\n",
      "\n",
      "              precision    recall  f1-score   support\n",
      "\n",
      "           0       0.91      0.98      0.94       567\n",
      "           1       0.81      0.48      0.60       105\n",
      "\n",
      "    accuracy                           0.90       672\n",
      "   macro avg       0.86      0.73      0.77       672\n",
      "weighted avg       0.89      0.90      0.89       672\n",
      "\n",
      "\n"
     ]
    },
    {
     "data": {
      "text/plain": [
       "0.7275132275132276"
      ]
     },
     "execution_count": 34,
     "metadata": {},
     "output_type": "execute_result"
    }
   ],
   "source": [
    "from sklearn.linear_model import LogisticRegression\n",
    "pipe_fit_score(LogisticRegression())"
   ]
  },
  {
   "cell_type": "markdown",
   "id": "c874a092",
   "metadata": {},
   "source": [
    "### Random Forest Classifier"
   ]
  },
  {
   "cell_type": "code",
   "execution_count": 35,
   "id": "70beb355",
   "metadata": {},
   "outputs": [
    {
     "name": "stdout",
     "output_type": "stream",
     "text": [
      "          Positive  Negative\n",
      "Positive       557        10\n",
      "Negative        70        35\n",
      "\n",
      "              precision    recall  f1-score   support\n",
      "\n",
      "           0       0.89      0.98      0.93       567\n",
      "           1       0.78      0.33      0.47       105\n",
      "\n",
      "    accuracy                           0.88       672\n",
      "   macro avg       0.83      0.66      0.70       672\n",
      "weighted avg       0.87      0.88      0.86       672\n",
      "\n",
      "\n"
     ]
    },
    {
     "data": {
      "text/plain": [
       "0.6578483245149912"
      ]
     },
     "execution_count": 35,
     "metadata": {},
     "output_type": "execute_result"
    }
   ],
   "source": [
    "from sklearn.ensemble import RandomForestClassifier\n",
    "rfc = RandomForestClassifier(random_state=123)\n",
    "pipe_fit_score(rfc)"
   ]
  },
  {
   "cell_type": "markdown",
   "id": "1bda3502",
   "metadata": {},
   "source": [
    "### K-Neighbor Classifier"
   ]
  },
  {
   "cell_type": "code",
   "execution_count": 36,
   "id": "dcd6003a",
   "metadata": {},
   "outputs": [
    {
     "name": "stdout",
     "output_type": "stream",
     "text": [
      "          Positive  Negative\n",
      "Positive       561         6\n",
      "Negative        80        25\n",
      "\n",
      "              precision    recall  f1-score   support\n",
      "\n",
      "           0       0.88      0.99      0.93       567\n",
      "           1       0.81      0.24      0.37       105\n",
      "\n",
      "    accuracy                           0.87       672\n",
      "   macro avg       0.84      0.61      0.65       672\n",
      "weighted avg       0.86      0.87      0.84       672\n",
      "\n",
      "\n"
     ]
    },
    {
     "data": {
      "text/plain": [
       "0.6137566137566137"
      ]
     },
     "execution_count": 36,
     "metadata": {},
     "output_type": "execute_result"
    }
   ],
   "source": [
    "from sklearn.neighbors import KNeighborsClassifier\n",
    "pipe_fit_score(KNeighborsClassifier())"
   ]
  },
  {
   "cell_type": "markdown",
   "id": "ffa4d4d6",
   "metadata": {},
   "source": [
    "### Support Vector Machine"
   ]
  },
  {
   "cell_type": "code",
   "execution_count": 37,
   "id": "1bc09e58",
   "metadata": {},
   "outputs": [
    {
     "name": "stdout",
     "output_type": "stream",
     "text": [
      "          Positive  Negative\n",
      "Positive       564         3\n",
      "Negative        84        21\n",
      "\n",
      "              precision    recall  f1-score   support\n",
      "\n",
      "           0       0.87      0.99      0.93       567\n",
      "           1       0.88      0.20      0.33       105\n",
      "\n",
      "    accuracy                           0.87       672\n",
      "   macro avg       0.87      0.60      0.63       672\n",
      "weighted avg       0.87      0.87      0.83       672\n",
      "\n",
      "\n"
     ]
    },
    {
     "data": {
      "text/plain": [
       "0.5973544973544973"
      ]
     },
     "execution_count": 37,
     "metadata": {},
     "output_type": "execute_result"
    }
   ],
   "source": [
    "from sklearn.svm import SVC\n",
    "pipe_fit_score(SVC())"
   ]
  },
  {
   "cell_type": "markdown",
   "id": "fb8c3218",
   "metadata": {},
   "source": [
    "## Classification\n",
    "\n",
    "When default parameters are used, logistic regression gives the best predictive scores in terms of accuracy (90 percent) and also the area under curve (0.72). More on classification will be tackled later on."
   ]
  },
  {
   "cell_type": "markdown",
   "id": "f60d0cd3",
   "metadata": {},
   "source": [
    "## Hyperparameter Tuning\n",
    "\n",
    "In this section, the model parameters are tuned to determine the best model parameters that can be used for prediction"
   ]
  },
  {
   "cell_type": "code",
   "execution_count": 38,
   "id": "44b0873d",
   "metadata": {},
   "outputs": [
    {
     "name": "stdout",
     "output_type": "stream",
     "text": [
      "Fitting 5 folds for each of 36 candidates, totalling 180 fits\n",
      "          Positive  Negative\n",
      "Positive       560         7\n",
      "Negative        69        36\n",
      "\n",
      "              precision    recall  f1-score   support\n",
      "\n",
      "           0       0.89      0.99      0.94       567\n",
      "           1       0.84      0.34      0.49       105\n",
      "\n",
      "    accuracy                           0.89       672\n",
      "   macro avg       0.86      0.67      0.71       672\n",
      "weighted avg       0.88      0.89      0.87       672\n",
      "\n",
      "\n",
      "Accuracy:  0.6652557319223986\n"
     ]
    }
   ],
   "source": [
    "from sklearn.model_selection import GridSearchCV\n",
    "import numpy as np\n",
    "\n",
    "param_rfc = { \n",
    "    'n_estimators': [50, 100, 200],\n",
    "    'max_features': ['auto'],\n",
    "    'max_depth' : [None,3,5,8],\n",
    "    'criterion' :['gini'],\n",
    "    'min_samples_split':[2,3,4]}\n",
    "\n",
    "rfc_cv = GridSearchCV(RandomForestClassifier(random_state=5),\n",
    "                            param_grid=param_rfc,\n",
    "                            cv=5, verbose=1)\n",
    "\n",
    "rfc_cv.fit(X_train, y_train)\n",
    "rfc_tune_acc = pipe_fit_score(rfc_cv.best_estimator_)\n",
    "print('Accuracy: ', rfc_tune_acc)"
   ]
  }
 ],
 "metadata": {
  "kernelspec": {
   "display_name": "Python 3 (ipykernel)",
   "language": "python",
   "name": "python3"
  },
  "language_info": {
   "codemirror_mode": {
    "name": "ipython",
    "version": 3
   },
   "file_extension": ".py",
   "mimetype": "text/x-python",
   "name": "python",
   "nbconvert_exporter": "python",
   "pygments_lexer": "ipython3",
   "version": "3.8.13"
  },
  "toc": {
   "base_numbering": 1,
   "nav_menu": {},
   "number_sections": true,
   "sideBar": true,
   "skip_h1_title": false,
   "title_cell": "Table of Contents",
   "title_sidebar": "Contents",
   "toc_cell": false,
   "toc_position": {
    "height": "calc(100% - 180px)",
    "left": "10px",
    "top": "150px",
    "width": "256px"
   },
   "toc_section_display": true,
   "toc_window_display": false
  },
  "varInspector": {
   "cols": {
    "lenName": 16,
    "lenType": 16,
    "lenVar": 40
   },
   "kernels_config": {
    "python": {
     "delete_cmd_postfix": "",
     "delete_cmd_prefix": "del ",
     "library": "var_list.py",
     "varRefreshCmd": "print(var_dic_list())"
    },
    "r": {
     "delete_cmd_postfix": ") ",
     "delete_cmd_prefix": "rm(",
     "library": "var_list.r",
     "varRefreshCmd": "cat(var_dic_list()) "
    }
   },
   "types_to_exclude": [
    "module",
    "function",
    "builtin_function_or_method",
    "instance",
    "_Feature"
   ],
   "window_display": false
  }
 },
 "nbformat": 4,
 "nbformat_minor": 5
}
